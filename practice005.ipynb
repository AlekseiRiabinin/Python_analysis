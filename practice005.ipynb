{
 "cells": [
  {
   "cell_type": "code",
   "execution_count": 131,
   "metadata": {},
   "outputs": [],
   "source": [
    "# import libraries\n",
    "from sklearn.impute import SimpleImputer\n",
    "from sklearn.model_selection import cross_validate, KFold, GridSearchCV, train_test_split\n",
    "from sklearn.base import BaseEstimator, TransformerMixin\n",
    "from sklearn.pipeline import Pipeline, FeatureUnion\n",
    "from sklearn.preprocessing import OneHotEncoder\n",
    "from sklearn.compose import ColumnTransformer\n",
    "from sklearn.metrics import make_scorer, classification_report\n",
    "from sklearn.metrics import accuracy_score, precision_score, recall_score, f1_score\n",
    "from catboost import CatBoostClassifier\n",
    "from xgboost import XGBClassifier\n",
    "from lightgbm.sklearn import LGBMClassifier\n",
    "from sklearn.ensemble import RandomForestClassifier\n",
    "from sklearn.ensemble import GradientBoostingClassifier\n",
    "\n",
    "import pandas as pd\n",
    "import numpy as np\n",
    "import seaborn as sns\n",
    "import warnings"
   ]
  },
  {
   "cell_type": "code",
   "execution_count": 89,
   "metadata": {},
   "outputs": [],
   "source": [
    "# set global parameters\n",
    "sns.set(style='darkgrid') \n",
    "pd.set_option('display.precision', 2)\n",
    "pd.set_option('mode.chained_assignment', None)\n",
    "warnings.filterwarnings('ignore')"
   ]
  },
  {
   "cell_type": "code",
   "execution_count": 90,
   "metadata": {},
   "outputs": [
    {
     "data": {
      "text/html": [
       "<style type=\"text/css\">\n",
       "</style>\n",
       "<table id=\"T_34ff8\">\n",
       "  <thead>\n",
       "    <tr>\n",
       "      <th class=\"blank level0\" >&nbsp;</th>\n",
       "      <th id=\"T_34ff8_level0_col0\" class=\"col_heading level0 col0\" >id</th>\n",
       "      <th id=\"T_34ff8_level0_col1\" class=\"col_heading level0 col1\" >customer_id</th>\n",
       "      <th id=\"T_34ff8_level0_col2\" class=\"col_heading level0 col2\" >month</th>\n",
       "      <th id=\"T_34ff8_level0_col3\" class=\"col_heading level0 col3\" >name</th>\n",
       "      <th id=\"T_34ff8_level0_col4\" class=\"col_heading level0 col4\" >age</th>\n",
       "      <th id=\"T_34ff8_level0_col5\" class=\"col_heading level0 col5\" >ssn</th>\n",
       "      <th id=\"T_34ff8_level0_col6\" class=\"col_heading level0 col6\" >occupation</th>\n",
       "      <th id=\"T_34ff8_level0_col7\" class=\"col_heading level0 col7\" >annual_income</th>\n",
       "      <th id=\"T_34ff8_level0_col8\" class=\"col_heading level0 col8\" >monthly_inhand_salary</th>\n",
       "      <th id=\"T_34ff8_level0_col9\" class=\"col_heading level0 col9\" >credit_history_age</th>\n",
       "      <th id=\"T_34ff8_level0_col10\" class=\"col_heading level0 col10\" >total_emi_per_month</th>\n",
       "      <th id=\"T_34ff8_level0_col11\" class=\"col_heading level0 col11\" >num_bank_accounts</th>\n",
       "      <th id=\"T_34ff8_level0_col12\" class=\"col_heading level0 col12\" >num_credit_card</th>\n",
       "      <th id=\"T_34ff8_level0_col13\" class=\"col_heading level0 col13\" >interest_rate</th>\n",
       "      <th id=\"T_34ff8_level0_col14\" class=\"col_heading level0 col14\" >num_of_loan</th>\n",
       "      <th id=\"T_34ff8_level0_col15\" class=\"col_heading level0 col15\" >type_of_loan</th>\n",
       "      <th id=\"T_34ff8_level0_col16\" class=\"col_heading level0 col16\" >delay_from_due_date</th>\n",
       "      <th id=\"T_34ff8_level0_col17\" class=\"col_heading level0 col17\" >num_of_delayed_payment</th>\n",
       "      <th id=\"T_34ff8_level0_col18\" class=\"col_heading level0 col18\" >changed_credit_limit</th>\n",
       "      <th id=\"T_34ff8_level0_col19\" class=\"col_heading level0 col19\" >num_credit_inquiries</th>\n",
       "      <th id=\"T_34ff8_level0_col20\" class=\"col_heading level0 col20\" >credit_mix</th>\n",
       "      <th id=\"T_34ff8_level0_col21\" class=\"col_heading level0 col21\" >outstanding_debt</th>\n",
       "      <th id=\"T_34ff8_level0_col22\" class=\"col_heading level0 col22\" >credit_utilization_ratio</th>\n",
       "      <th id=\"T_34ff8_level0_col23\" class=\"col_heading level0 col23\" >payment_of_min_amount</th>\n",
       "      <th id=\"T_34ff8_level0_col24\" class=\"col_heading level0 col24\" >amount_invested_monthly</th>\n",
       "      <th id=\"T_34ff8_level0_col25\" class=\"col_heading level0 col25\" >payment_behaviour</th>\n",
       "      <th id=\"T_34ff8_level0_col26\" class=\"col_heading level0 col26\" >monthly_balance</th>\n",
       "      <th id=\"T_34ff8_level0_col27\" class=\"col_heading level0 col27\" >credit_score</th>\n",
       "    </tr>\n",
       "  </thead>\n",
       "  <tbody>\n",
       "    <tr>\n",
       "      <th id=\"T_34ff8_level0_row0\" class=\"row_heading level0 row0\" >0</th>\n",
       "      <td id=\"T_34ff8_row0_col0\" class=\"data row0 col0\" >0x1602</td>\n",
       "      <td id=\"T_34ff8_row0_col1\" class=\"data row0 col1\" >CUS_0xd40</td>\n",
       "      <td id=\"T_34ff8_row0_col2\" class=\"data row0 col2\" >January</td>\n",
       "      <td id=\"T_34ff8_row0_col3\" class=\"data row0 col3\" >Aaron Maashoh</td>\n",
       "      <td id=\"T_34ff8_row0_col4\" class=\"data row0 col4\" >23</td>\n",
       "      <td id=\"T_34ff8_row0_col5\" class=\"data row0 col5\" >821-00-0265</td>\n",
       "      <td id=\"T_34ff8_row0_col6\" class=\"data row0 col6\" >Scientist</td>\n",
       "      <td id=\"T_34ff8_row0_col7\" class=\"data row0 col7\" >19114.120000</td>\n",
       "      <td id=\"T_34ff8_row0_col8\" class=\"data row0 col8\" >1824.843400</td>\n",
       "      <td id=\"T_34ff8_row0_col9\" class=\"data row0 col9\" >89</td>\n",
       "      <td id=\"T_34ff8_row0_col10\" class=\"data row0 col10\" >49.574947</td>\n",
       "      <td id=\"T_34ff8_row0_col11\" class=\"data row0 col11\" >3</td>\n",
       "      <td id=\"T_34ff8_row0_col12\" class=\"data row0 col12\" >4</td>\n",
       "      <td id=\"T_34ff8_row0_col13\" class=\"data row0 col13\" >3</td>\n",
       "      <td id=\"T_34ff8_row0_col14\" class=\"data row0 col14\" >4</td>\n",
       "      <td id=\"T_34ff8_row0_col15\" class=\"data row0 col15\" >['Auto Loan', 'Credit-Builder Loan', 'Personal Loan', 'Home Equity Loan']</td>\n",
       "      <td id=\"T_34ff8_row0_col16\" class=\"data row0 col16\" >3</td>\n",
       "      <td id=\"T_34ff8_row0_col17\" class=\"data row0 col17\" >7</td>\n",
       "      <td id=\"T_34ff8_row0_col18\" class=\"data row0 col18\" >11.270000</td>\n",
       "      <td id=\"T_34ff8_row0_col19\" class=\"data row0 col19\" >4</td>\n",
       "      <td id=\"T_34ff8_row0_col20\" class=\"data row0 col20\" >Good</td>\n",
       "      <td id=\"T_34ff8_row0_col21\" class=\"data row0 col21\" >809.980000</td>\n",
       "      <td id=\"T_34ff8_row0_col22\" class=\"data row0 col22\" >26.822620</td>\n",
       "      <td id=\"T_34ff8_row0_col23\" class=\"data row0 col23\" >No</td>\n",
       "      <td id=\"T_34ff8_row0_col24\" class=\"data row0 col24\" >80.415300</td>\n",
       "      <td id=\"T_34ff8_row0_col25\" class=\"data row0 col25\" >High_spent_Small_value_payments</td>\n",
       "      <td id=\"T_34ff8_row0_col26\" class=\"data row0 col26\" >312.494080</td>\n",
       "      <td id=\"T_34ff8_row0_col27\" class=\"data row0 col27\" >2</td>\n",
       "    </tr>\n",
       "    <tr>\n",
       "      <th id=\"T_34ff8_level0_row1\" class=\"row_heading level0 row1\" >1</th>\n",
       "      <td id=\"T_34ff8_row1_col0\" class=\"data row1 col0\" >0x1603</td>\n",
       "      <td id=\"T_34ff8_row1_col1\" class=\"data row1 col1\" >CUS_0xd40</td>\n",
       "      <td id=\"T_34ff8_row1_col2\" class=\"data row1 col2\" >February</td>\n",
       "      <td id=\"T_34ff8_row1_col3\" class=\"data row1 col3\" >Aaron Maashoh</td>\n",
       "      <td id=\"T_34ff8_row1_col4\" class=\"data row1 col4\" >23</td>\n",
       "      <td id=\"T_34ff8_row1_col5\" class=\"data row1 col5\" >821-00-0265</td>\n",
       "      <td id=\"T_34ff8_row1_col6\" class=\"data row1 col6\" >Scientist</td>\n",
       "      <td id=\"T_34ff8_row1_col7\" class=\"data row1 col7\" >19114.120000</td>\n",
       "      <td id=\"T_34ff8_row1_col8\" class=\"data row1 col8\" >1824.843400</td>\n",
       "      <td id=\"T_34ff8_row1_col9\" class=\"data row1 col9\" >93</td>\n",
       "      <td id=\"T_34ff8_row1_col10\" class=\"data row1 col10\" >49.574947</td>\n",
       "      <td id=\"T_34ff8_row1_col11\" class=\"data row1 col11\" >3</td>\n",
       "      <td id=\"T_34ff8_row1_col12\" class=\"data row1 col12\" >4</td>\n",
       "      <td id=\"T_34ff8_row1_col13\" class=\"data row1 col13\" >3</td>\n",
       "      <td id=\"T_34ff8_row1_col14\" class=\"data row1 col14\" >4</td>\n",
       "      <td id=\"T_34ff8_row1_col15\" class=\"data row1 col15\" >['Auto Loan', 'Credit-Builder Loan', 'Personal Loan', 'Home Equity Loan']</td>\n",
       "      <td id=\"T_34ff8_row1_col16\" class=\"data row1 col16\" >-1</td>\n",
       "      <td id=\"T_34ff8_row1_col17\" class=\"data row1 col17\" >7</td>\n",
       "      <td id=\"T_34ff8_row1_col18\" class=\"data row1 col18\" >11.270000</td>\n",
       "      <td id=\"T_34ff8_row1_col19\" class=\"data row1 col19\" >4</td>\n",
       "      <td id=\"T_34ff8_row1_col20\" class=\"data row1 col20\" >Good</td>\n",
       "      <td id=\"T_34ff8_row1_col21\" class=\"data row1 col21\" >809.980000</td>\n",
       "      <td id=\"T_34ff8_row1_col22\" class=\"data row1 col22\" >31.944960</td>\n",
       "      <td id=\"T_34ff8_row1_col23\" class=\"data row1 col23\" >No</td>\n",
       "      <td id=\"T_34ff8_row1_col24\" class=\"data row1 col24\" >118.280220</td>\n",
       "      <td id=\"T_34ff8_row1_col25\" class=\"data row1 col25\" >Low_spent_Large_value_payments</td>\n",
       "      <td id=\"T_34ff8_row1_col26\" class=\"data row1 col26\" >284.629150</td>\n",
       "      <td id=\"T_34ff8_row1_col27\" class=\"data row1 col27\" >2</td>\n",
       "    </tr>\n",
       "    <tr>\n",
       "      <th id=\"T_34ff8_level0_row2\" class=\"row_heading level0 row2\" >2</th>\n",
       "      <td id=\"T_34ff8_row2_col0\" class=\"data row2 col0\" >0x1604</td>\n",
       "      <td id=\"T_34ff8_row2_col1\" class=\"data row2 col1\" >CUS_0xd40</td>\n",
       "      <td id=\"T_34ff8_row2_col2\" class=\"data row2 col2\" >March</td>\n",
       "      <td id=\"T_34ff8_row2_col3\" class=\"data row2 col3\" >Aaron Maashoh</td>\n",
       "      <td id=\"T_34ff8_row2_col4\" class=\"data row2 col4\" >23</td>\n",
       "      <td id=\"T_34ff8_row2_col5\" class=\"data row2 col5\" >821-00-0265</td>\n",
       "      <td id=\"T_34ff8_row2_col6\" class=\"data row2 col6\" >Scientist</td>\n",
       "      <td id=\"T_34ff8_row2_col7\" class=\"data row2 col7\" >19114.120000</td>\n",
       "      <td id=\"T_34ff8_row2_col8\" class=\"data row2 col8\" >1824.843400</td>\n",
       "      <td id=\"T_34ff8_row2_col9\" class=\"data row2 col9\" >91</td>\n",
       "      <td id=\"T_34ff8_row2_col10\" class=\"data row2 col10\" >49.574947</td>\n",
       "      <td id=\"T_34ff8_row2_col11\" class=\"data row2 col11\" >3</td>\n",
       "      <td id=\"T_34ff8_row2_col12\" class=\"data row2 col12\" >4</td>\n",
       "      <td id=\"T_34ff8_row2_col13\" class=\"data row2 col13\" >3</td>\n",
       "      <td id=\"T_34ff8_row2_col14\" class=\"data row2 col14\" >4</td>\n",
       "      <td id=\"T_34ff8_row2_col15\" class=\"data row2 col15\" >['Auto Loan', 'Credit-Builder Loan', 'Personal Loan', 'Home Equity Loan']</td>\n",
       "      <td id=\"T_34ff8_row2_col16\" class=\"data row2 col16\" >3</td>\n",
       "      <td id=\"T_34ff8_row2_col17\" class=\"data row2 col17\" >7</td>\n",
       "      <td id=\"T_34ff8_row2_col18\" class=\"data row2 col18\" >11.270000</td>\n",
       "      <td id=\"T_34ff8_row2_col19\" class=\"data row2 col19\" >4</td>\n",
       "      <td id=\"T_34ff8_row2_col20\" class=\"data row2 col20\" >Good</td>\n",
       "      <td id=\"T_34ff8_row2_col21\" class=\"data row2 col21\" >809.980000</td>\n",
       "      <td id=\"T_34ff8_row2_col22\" class=\"data row2 col22\" >28.609352</td>\n",
       "      <td id=\"T_34ff8_row2_col23\" class=\"data row2 col23\" >No</td>\n",
       "      <td id=\"T_34ff8_row2_col24\" class=\"data row2 col24\" >81.699524</td>\n",
       "      <td id=\"T_34ff8_row2_col25\" class=\"data row2 col25\" >Low_spent_Medium_value_payments</td>\n",
       "      <td id=\"T_34ff8_row2_col26\" class=\"data row2 col26\" >331.209870</td>\n",
       "      <td id=\"T_34ff8_row2_col27\" class=\"data row2 col27\" >2</td>\n",
       "    </tr>\n",
       "  </tbody>\n",
       "</table>\n"
      ],
      "text/plain": [
       "<pandas.io.formats.style.Styler at 0x2562af5b970>"
      ]
     },
     "execution_count": 90,
     "metadata": {},
     "output_type": "execute_result"
    }
   ],
   "source": [
    "# read csv file and print our 5 rows\n",
    "df = pd.read_csv('C:/MISIS_DataEngineering/ML/hw2/Python_analysis/credit_score_cleaned_train.csv')\n",
    "df.loc[0:2].style"
   ]
  },
  {
   "cell_type": "code",
   "execution_count": 91,
   "metadata": {},
   "outputs": [
    {
     "name": "stdout",
     "output_type": "stream",
     "text": [
      "<class 'pandas.core.frame.DataFrame'>\n",
      "RangeIndex: 96696 entries, 0 to 96695\n",
      "Data columns (total 28 columns):\n",
      " #   Column                    Non-Null Count  Dtype  \n",
      "---  ------                    --------------  -----  \n",
      " 0   id                        96696 non-null  object \n",
      " 1   customer_id               96696 non-null  object \n",
      " 2   month                     96696 non-null  object \n",
      " 3   name                      96696 non-null  object \n",
      " 4   age                       96696 non-null  int64  \n",
      " 5   ssn                       96696 non-null  object \n",
      " 6   occupation                96696 non-null  object \n",
      " 7   annual_income             96696 non-null  float64\n",
      " 8   monthly_inhand_salary     96696 non-null  float64\n",
      " 9   credit_history_age        96696 non-null  int64  \n",
      " 10  total_emi_per_month       96696 non-null  float64\n",
      " 11  num_bank_accounts         96696 non-null  int64  \n",
      " 12  num_credit_card           96696 non-null  int64  \n",
      " 13  interest_rate             96696 non-null  int64  \n",
      " 14  num_of_loan               96696 non-null  int64  \n",
      " 15  type_of_loan              96696 non-null  object \n",
      " 16  delay_from_due_date       96696 non-null  int64  \n",
      " 17  num_of_delayed_payment    96696 non-null  int64  \n",
      " 18  changed_credit_limit      96696 non-null  float64\n",
      " 19  num_credit_inquiries      96696 non-null  int64  \n",
      " 20  credit_mix                96696 non-null  object \n",
      " 21  outstanding_debt          96696 non-null  float64\n",
      " 22  credit_utilization_ratio  96696 non-null  float64\n",
      " 23  payment_of_min_amount     96696 non-null  object \n",
      " 24  amount_invested_monthly   96696 non-null  float64\n",
      " 25  payment_behaviour         96696 non-null  object \n",
      " 26  monthly_balance           96696 non-null  float64\n",
      " 27  credit_score              96696 non-null  int64  \n",
      "dtypes: float64(8), int64(10), object(10)\n",
      "memory usage: 20.7+ MB\n"
     ]
    }
   ],
   "source": [
    "df.info()"
   ]
  },
  {
   "cell_type": "code",
   "execution_count": 92,
   "metadata": {},
   "outputs": [
    {
     "name": "stdout",
     "output_type": "stream",
     "text": [
      "The unique classes in the target column are: [2 1 0]\n"
     ]
    }
   ],
   "source": [
    "unique_classes_list = df['credit_score'].unique()\n",
    "print(f'The unique classes in the target column are: {unique_classes_list}')"
   ]
  },
  {
   "cell_type": "code",
   "execution_count": 93,
   "metadata": {},
   "outputs": [
    {
     "name": "stdout",
     "output_type": "stream",
     "text": [
      "Columns with NaN values:\n",
      "Series([], dtype: int64)\n",
      "Number of columns with NaN values: 0\n"
     ]
    }
   ],
   "source": [
    "# Check for NaN values in each column\n",
    "nan_columns = df.isna().sum()\n",
    "\n",
    "# Filter columns with NaN values\n",
    "nan_columns = nan_columns[nan_columns > 0]\n",
    "\n",
    "print(f\"Columns with NaN values:\\n{nan_columns}\")\n",
    "print(f\"Number of columns with NaN values: {nan_columns.count()}\")"
   ]
  },
  {
   "cell_type": "markdown",
   "metadata": {},
   "source": [
    "### Sklearn (Classification)"
   ]
  },
  {
   "cell_type": "code",
   "execution_count": 159,
   "metadata": {},
   "outputs": [],
   "source": [
    "# global variables\n",
    "SEED = 777"
   ]
  },
  {
   "cell_type": "code",
   "execution_count": 160,
   "metadata": {},
   "outputs": [],
   "source": [
    "# Fit the models, transform and return prediction\n",
    "class TypeSelector(BaseEstimator, TransformerMixin):\n",
    "    \n",
    "    def __init__(self, dtype):\n",
    "        self.dtype = dtype\n",
    "    \n",
    "    def fit(self, X, y=None):\n",
    "        return self\n",
    "    \n",
    "    def transform(self, X):\n",
    "        assert isinstance(X, pd.DataFrame)\n",
    "        return X.select_dtypes(include=[self.dtype])"
   ]
  },
  {
   "cell_type": "code",
   "execution_count": 161,
   "metadata": {},
   "outputs": [],
   "source": [
    "# transformer pipline\n",
    "transformer = Pipeline([\n",
    "    ('features', FeatureUnion(n_jobs=1, transformer_list=[\n",
    "        \n",
    "        ('boolean', Pipeline([('selector', TypeSelector('bool')),])),  # booleans close\n",
    "        \n",
    "        ('numericals', Pipeline([\n",
    "            ('selector', TypeSelector(np.number)),\n",
    "            ('imputer', SimpleImputer())\n",
    "            \n",
    "        ])),  # numericals close\n",
    "    ])),  # features close\n",
    "])  # pipeline close"
   ]
  },
  {
   "cell_type": "code",
   "execution_count": 163,
   "metadata": {},
   "outputs": [],
   "source": [
    "# estimator pipeline\n",
    "estimators = [\n",
    "    ('CatBoost Classifier', CatBoostClassifier(\n",
    "        eval_metric='MultiClass', random_state=SEED, verbose=0)\n",
    "    ),\n",
    "    \n",
    "    ('Random Forest', RandomForestClassifier(\n",
    "        criterion='entropy', max_depth=5, random_state=SEED)\n",
    "    ),\n",
    "    \n",
    "    ('LGBM Classifier', LGBMClassifier(\n",
    "        objective='multiclass', verbosity=0, random_state=SEED)\n",
    "    ),\n",
    "    \n",
    "    ('Gradient Boosting', GradientBoostingClassifier(\n",
    "        criterion='friedman_mse', max_depth=5, random_state=SEED)\n",
    "    ),\n",
    "    \n",
    "    ('XGB Classifier', XGBClassifier(\n",
    "        eval_metric='mlogloss', max_depth=5, verbose=0, random_state=SEED)\n",
    "    )\n",
    "]"
   ]
  },
  {
   "cell_type": "code",
   "execution_count": 165,
   "metadata": {},
   "outputs": [],
   "source": [
    "# models pipeline\n",
    "def pipe_builder(X, y, estimators):\n",
    "    pipes = {}\n",
    "    for model in estimators:            \n",
    "        pipe = Pipeline(steps=[('data_prep', transformer), model])\n",
    "        pipe.fit(X, y)\n",
    "        pipes[pipe.steps[1][0]] = pipe\n",
    "\n",
    "    return pipes"
   ]
  },
  {
   "cell_type": "code",
   "execution_count": 166,
   "metadata": {},
   "outputs": [],
   "source": [
    "# train models and show ML metrics\n",
    "def get_metrics(X, y, estimators):\n",
    "    pipes = pipe_builder(X=X, y=y, estimators=estimators)\n",
    "    models = list(list(zip(*estimators))[0])\n",
    "    \n",
    "    scoring = {'f1_macro': make_scorer(f1_score, average='macro')}\n",
    "\n",
    "    for model in models:\n",
    "        score = cross_validate(\n",
    "            pipes[model], \n",
    "            X, y, \n",
    "            cv=KFold(5), \n",
    "            scoring=scoring\n",
    "        )\n",
    "        f1 = round(max(score['test_f1_macro']), 2)\n",
    "    \n",
    "        print(f'F1 Score     {model}: {f1}')\n",
    "        print('----------------------------------------')"
   ]
  },
  {
   "cell_type": "markdown",
   "metadata": {},
   "source": [
    "### ML models"
   ]
  },
  {
   "cell_type": "code",
   "execution_count": 167,
   "metadata": {},
   "outputs": [],
   "source": [
    "# create features and target\n",
    "X = df.drop(['credit_score'], axis=1)\n",
    "y = df['credit_score']"
   ]
  },
  {
   "cell_type": "code",
   "execution_count": 173,
   "metadata": {},
   "outputs": [
    {
     "data": {
      "image/png": "[encoded data removed]",
      "text/plain": [
       "<Figure size 640x480 with 1 Axes>"
      ]
     },
     "metadata": {},
     "output_type": "display_data"
    }
   ],
   "source": [
    "sns.histplot(data=df, x=\"credit_score\", bins=20).set(title='Credit score');"
   ]
  },
  {
   "cell_type": "code",
   "execution_count": null,
   "metadata": {},
   "outputs": [
    {
     "name": "stdout",
     "output_type": "stream",
     "text": [
      "#############\n",
      "Credit_score\n",
      "#############\n",
      "F1 Score     CatBoost Classifier: 0.66\n",
      "----------------------------------------\n",
      "F1 Score     Random Forest: 0.58\n",
      "----------------------------------------\n",
      "F1 Score     LGBM Classifier: 0.67\n",
      "----------------------------------------\n",
      "F1 Score     Gradient Boosting: 0.67\n",
      "----------------------------------------\n",
      "F1 Score     XGB Classifier: 0.66\n",
      "----------------------------------------\n"
     ]
    }
   ],
   "source": [
    "# print out metrics Blood_glucose\n",
    "print('#############')\n",
    "print('Credit_score')\n",
    "print('#############')\n",
    "get_metrics(X=X, y=y, estimators=estimators)"
   ]
  },
  {
   "cell_type": "markdown",
   "metadata": {},
   "source": [
    "### Grid Search"
   ]
  },
  {
   "cell_type": "code",
   "execution_count": 170,
   "metadata": {},
   "outputs": [
    {
     "data": {
      "text/plain": [
       "('LGBM Classifier',\n",
       " LGBMClassifier(objective='multiclass', random_state=777, verbosity=0))"
      ]
     },
     "execution_count": 170,
     "metadata": {},
     "output_type": "execute_result"
    }
   ],
   "source": [
    "lgbm = estimators[2]\n",
    "lgbm"
   ]
  },
  {
   "cell_type": "code",
   "execution_count": null,
   "metadata": {},
   "outputs": [
    {
     "data": {
      "text/html": [
       "<style>#sk-container-id-5 {color: black;}#sk-container-id-5 pre{padding: 0;}#sk-container-id-5 div.sk-toggleable {background-color: white;}#sk-container-id-5 label.sk-toggleable__label {cursor: pointer;display: block;width: 100%;margin-bottom: 0;padding: 0.3em;box-sizing: border-box;text-align: center;}#sk-container-id-5 label.sk-toggleable__label-arrow:before {content: \"▸\";float: left;margin-right: 0.25em;color: #696969;}#sk-container-id-5 label.sk-toggleable__label-arrow:hover:before {color: black;}#sk-container-id-5 div.sk-estimator:hover label.sk-toggleable__label-arrow:before {color: black;}#sk-container-id-5 div.sk-toggleable__content {max-height: 0;max-width: 0;overflow: hidden;text-align: left;background-color: #f0f8ff;}#sk-container-id-5 div.sk-toggleable__content pre {margin: 0.2em;color: black;border-radius: 0.25em;background-color: #f0f8ff;}#sk-container-id-5 input.sk-toggleable__control:checked~div.sk-toggleable__content {max-height: 200px;max-width: 100%;overflow: auto;}#sk-container-id-5 input.sk-toggleable__control:checked~label.sk-toggleable__label-arrow:before {content: \"▾\";}#sk-container-id-5 div.sk-estimator input.sk-toggleable__control:checked~label.sk-toggleable__label {background-color: #d4ebff;}#sk-container-id-5 div.sk-label input.sk-toggleable__control:checked~label.sk-toggleable__label {background-color: #d4ebff;}#sk-container-id-5 input.sk-hidden--visually {border: 0;clip: rect(1px 1px 1px 1px);clip: rect(1px, 1px, 1px, 1px);height: 1px;margin: -1px;overflow: hidden;padding: 0;position: absolute;width: 1px;}#sk-container-id-5 div.sk-estimator {font-family: monospace;background-color: #f0f8ff;border: 1px dotted black;border-radius: 0.25em;box-sizing: border-box;margin-bottom: 0.5em;}#sk-container-id-5 div.sk-estimator:hover {background-color: #d4ebff;}#sk-container-id-5 div.sk-parallel-item::after {content: \"\";width: 100%;border-bottom: 1px solid gray;flex-grow: 1;}#sk-container-id-5 div.sk-label:hover label.sk-toggleable__label {background-color: #d4ebff;}#sk-container-id-5 div.sk-serial::before {content: \"\";position: absolute;border-left: 1px solid gray;box-sizing: border-box;top: 0;bottom: 0;left: 50%;z-index: 0;}#sk-container-id-5 div.sk-serial {display: flex;flex-direction: column;align-items: center;background-color: white;padding-right: 0.2em;padding-left: 0.2em;position: relative;}#sk-container-id-5 div.sk-item {position: relative;z-index: 1;}#sk-container-id-5 div.sk-parallel {display: flex;align-items: stretch;justify-content: center;background-color: white;position: relative;}#sk-container-id-5 div.sk-item::before, #sk-container-id-5 div.sk-parallel-item::before {content: \"\";position: absolute;border-left: 1px solid gray;box-sizing: border-box;top: 0;bottom: 0;left: 50%;z-index: -1;}#sk-container-id-5 div.sk-parallel-item {display: flex;flex-direction: column;z-index: 1;position: relative;background-color: white;}#sk-container-id-5 div.sk-parallel-item:first-child::after {align-self: flex-end;width: 50%;}#sk-container-id-5 div.sk-parallel-item:last-child::after {align-self: flex-start;width: 50%;}#sk-container-id-5 div.sk-parallel-item:only-child::after {width: 0;}#sk-container-id-5 div.sk-dashed-wrapped {border: 1px dashed gray;margin: 0 0.4em 0.5em 0.4em;box-sizing: border-box;padding-bottom: 0.4em;background-color: white;}#sk-container-id-5 div.sk-label label {font-family: monospace;font-weight: bold;display: inline-block;line-height: 1.2em;}#sk-container-id-5 div.sk-label-container {text-align: center;}#sk-container-id-5 div.sk-container {/* jupyter's `normalize.less` sets `[hidden] { display: none; }` but bootstrap.min.css set `[hidden] { display: none !important; }` so we also need the `!important` here to be able to override the default hidden behavior on the sphinx rendered scikit-learn.org. See: https://github.com/scikit-learn/scikit-learn/issues/21755 */display: inline-block !important;position: relative;}#sk-container-id-5 div.sk-text-repr-fallback {display: none;}</style><div id=\"sk-container-id-5\" class=\"sk-top-container\"><div class=\"sk-text-repr-fallback\"><pre>Pipeline(steps=[(&#x27;data_prep&#x27;,\n",
       "                 Pipeline(steps=[(&#x27;features&#x27;,\n",
       "                                  FeatureUnion(n_jobs=1,\n",
       "                                               transformer_list=[(&#x27;boolean&#x27;,\n",
       "                                                                  Pipeline(steps=[(&#x27;selector&#x27;,\n",
       "                                                                                   TypeSelector(dtype=&#x27;bool&#x27;))])),\n",
       "                                                                 (&#x27;numericals&#x27;,\n",
       "                                                                  Pipeline(steps=[(&#x27;selector&#x27;,\n",
       "                                                                                   TypeSelector(dtype=&lt;class &#x27;numpy.number&#x27;&gt;)),\n",
       "                                                                                  (&#x27;imputer&#x27;,\n",
       "                                                                                   SimpleImputer())]))]))])),\n",
       "                (&#x27;LGBM Classifier&#x27;,\n",
       "                 LGBMClassifier(objective=&#x27;multiclass&#x27;, random_state=777,\n",
       "                                verbosity=0))])</pre><b>In a Jupyter environment, please rerun this cell to show the HTML representation or trust the notebook. <br />On GitHub, the HTML representation is unable to render, please try loading this page with nbviewer.org.</b></div><div class=\"sk-container\" hidden><div class=\"sk-item sk-dashed-wrapped\"><div class=\"sk-label-container\"><div class=\"sk-label sk-toggleable\"><input class=\"sk-toggleable__control sk-hidden--visually\" id=\"sk-estimator-id-30\" type=\"checkbox\" ><label for=\"sk-estimator-id-30\" class=\"sk-toggleable__label sk-toggleable__label-arrow\">Pipeline</label><div class=\"sk-toggleable__content\"><pre>Pipeline(steps=[(&#x27;data_prep&#x27;,\n",
       "                 Pipeline(steps=[(&#x27;features&#x27;,\n",
       "                                  FeatureUnion(n_jobs=1,\n",
       "                                               transformer_list=[(&#x27;boolean&#x27;,\n",
       "                                                                  Pipeline(steps=[(&#x27;selector&#x27;,\n",
       "                                                                                   TypeSelector(dtype=&#x27;bool&#x27;))])),\n",
       "                                                                 (&#x27;numericals&#x27;,\n",
       "                                                                  Pipeline(steps=[(&#x27;selector&#x27;,\n",
       "                                                                                   TypeSelector(dtype=&lt;class &#x27;numpy.number&#x27;&gt;)),\n",
       "                                                                                  (&#x27;imputer&#x27;,\n",
       "                                                                                   SimpleImputer())]))]))])),\n",
       "                (&#x27;LGBM Classifier&#x27;,\n",
       "                 LGBMClassifier(objective=&#x27;multiclass&#x27;, random_state=777,\n",
       "                                verbosity=0))])</pre></div></div></div><div class=\"sk-serial\"><div class=\"sk-item\"><div class=\"sk-label-container\"><div class=\"sk-label sk-toggleable\"><input class=\"sk-toggleable__control sk-hidden--visually\" id=\"sk-estimator-id-31\" type=\"checkbox\" ><label for=\"sk-estimator-id-31\" class=\"sk-toggleable__label sk-toggleable__label-arrow\">data_prep: Pipeline</label><div class=\"sk-toggleable__content\"><pre>Pipeline(steps=[(&#x27;features&#x27;,\n",
       "                 FeatureUnion(n_jobs=1,\n",
       "                              transformer_list=[(&#x27;boolean&#x27;,\n",
       "                                                 Pipeline(steps=[(&#x27;selector&#x27;,\n",
       "                                                                  TypeSelector(dtype=&#x27;bool&#x27;))])),\n",
       "                                                (&#x27;numericals&#x27;,\n",
       "                                                 Pipeline(steps=[(&#x27;selector&#x27;,\n",
       "                                                                  TypeSelector(dtype=&lt;class &#x27;numpy.number&#x27;&gt;)),\n",
       "                                                                 (&#x27;imputer&#x27;,\n",
       "                                                                  SimpleImputer())]))]))])</pre></div></div></div><div class=\"sk-serial\"><div class=\"sk-item sk-dashed-wrapped\"><div class=\"sk-label-container\"><div class=\"sk-label sk-toggleable\"><input class=\"sk-toggleable__control sk-hidden--visually\" id=\"sk-estimator-id-32\" type=\"checkbox\" ><label for=\"sk-estimator-id-32\" class=\"sk-toggleable__label sk-toggleable__label-arrow\">features: FeatureUnion</label><div class=\"sk-toggleable__content\"><pre>FeatureUnion(n_jobs=1,\n",
       "             transformer_list=[(&#x27;boolean&#x27;,\n",
       "                                Pipeline(steps=[(&#x27;selector&#x27;,\n",
       "                                                 TypeSelector(dtype=&#x27;bool&#x27;))])),\n",
       "                               (&#x27;numericals&#x27;,\n",
       "                                Pipeline(steps=[(&#x27;selector&#x27;,\n",
       "                                                 TypeSelector(dtype=&lt;class &#x27;numpy.number&#x27;&gt;)),\n",
       "                                                (&#x27;imputer&#x27;,\n",
       "                                                 SimpleImputer())]))])</pre></div></div></div><div class=\"sk-parallel\"><div class=\"sk-parallel-item\"><div class=\"sk-item\"><div class=\"sk-label-container\"><div class=\"sk-label sk-toggleable\"><label>boolean</label></div></div><div class=\"sk-serial\"><div class=\"sk-item\"><div class=\"sk-serial\"><div class=\"sk-item\"><div class=\"sk-estimator sk-toggleable\"><input class=\"sk-toggleable__control sk-hidden--visually\" id=\"sk-estimator-id-33\" type=\"checkbox\" ><label for=\"sk-estimator-id-33\" class=\"sk-toggleable__label sk-toggleable__label-arrow\">TypeSelector</label><div class=\"sk-toggleable__content\"><pre>TypeSelector(dtype=&#x27;bool&#x27;)</pre></div></div></div></div></div></div></div></div><div class=\"sk-parallel-item\"><div class=\"sk-item\"><div class=\"sk-label-container\"><div class=\"sk-label sk-toggleable\"><label>numericals</label></div></div><div class=\"sk-serial\"><div class=\"sk-item\"><div class=\"sk-serial\"><div class=\"sk-item\"><div class=\"sk-estimator sk-toggleable\"><input class=\"sk-toggleable__control sk-hidden--visually\" id=\"sk-estimator-id-34\" type=\"checkbox\" ><label for=\"sk-estimator-id-34\" class=\"sk-toggleable__label sk-toggleable__label-arrow\">TypeSelector</label><div class=\"sk-toggleable__content\"><pre>TypeSelector(dtype=&lt;class &#x27;numpy.number&#x27;&gt;)</pre></div></div></div><div class=\"sk-item\"><div class=\"sk-estimator sk-toggleable\"><input class=\"sk-toggleable__control sk-hidden--visually\" id=\"sk-estimator-id-35\" type=\"checkbox\" ><label for=\"sk-estimator-id-35\" class=\"sk-toggleable__label sk-toggleable__label-arrow\">SimpleImputer</label><div class=\"sk-toggleable__content\"><pre>SimpleImputer()</pre></div></div></div></div></div></div></div></div></div></div></div></div><div class=\"sk-item\"><div class=\"sk-estimator sk-toggleable\"><input class=\"sk-toggleable__control sk-hidden--visually\" id=\"sk-estimator-id-36\" type=\"checkbox\" ><label for=\"sk-estimator-id-36\" class=\"sk-toggleable__label sk-toggleable__label-arrow\">LGBMClassifier</label><div class=\"sk-toggleable__content\"><pre>LGBMClassifier(objective=&#x27;multiclass&#x27;, random_state=777, verbosity=0)</pre></div></div></div></div></div></div></div>"
      ],
      "text/plain": [
       "Pipeline(steps=[('data_prep',\n",
       "                 Pipeline(steps=[('features',\n",
       "                                  FeatureUnion(n_jobs=1,\n",
       "                                               transformer_list=[('boolean',\n",
       "                                                                  Pipeline(steps=[('selector',\n",
       "                                                                                   TypeSelector(dtype='bool'))])),\n",
       "                                                                 ('numericals',\n",
       "                                                                  Pipeline(steps=[('selector',\n",
       "                                                                                   TypeSelector(dtype=<class 'numpy.number'>)),\n",
       "                                                                                  ('imputer',\n",
       "                                                                                   SimpleImputer())]))]))])),\n",
       "                ('LGBM Classifier',\n",
       "                 LGBMClassifier(objective='multiclass', random_state=777,\n",
       "                                verbosity=0))])"
      ]
     },
     "execution_count": 171,
     "metadata": {},
     "output_type": "execute_result"
    }
   ],
   "source": [
    "pipe = Pipeline(steps=[('data_prep', transformer), lgbm])\n",
    "pipe.fit(X, y)"
   ]
  },
  {
   "cell_type": "code",
   "execution_count": 172,
   "metadata": {},
   "outputs": [],
   "source": [
    "f1_scorer = {'f1_macro': make_scorer(f1_score, average='macro')}"
   ]
  },
  {
   "cell_type": "code",
   "execution_count": 180,
   "metadata": {},
   "outputs": [],
   "source": [
    "# Define the parameter grid\n",
    "param_grid = {\n",
    "    'LGBM Classifier__num_leaves': [31, 50, 70],\n",
    "    'LGBM Classifier__max_depth': [5, 10, 15],\n",
    "    'LGBM Classifier__learning_rate': [0.01, 0.05, 0.1],\n",
    "    'LGBM Classifier__n_estimators': [100, 200, 300]\n",
    "}"
   ]
  },
  {
   "cell_type": "code",
   "execution_count": 181,
   "metadata": {},
   "outputs": [],
   "source": [
    "# Initialize GridSearchCV with F1 score as the scoring metric\n",
    "grid_search = GridSearchCV(estimator=pipe, param_grid=param_grid, \n",
    "scoring=f1_scorer, cv=5, verbose=1, n_jobs=-1, refit='f1_macro')"
   ]
  },
  {
   "cell_type": "code",
   "execution_count": null,
   "metadata": {},
   "outputs": [
    {
     "name": "stdout",
     "output_type": "stream",
     "text": [
      "Fitting 5 folds for each of 81 candidates, totalling 405 fits\n",
      "[LightGBM] [Warning] Accuracy may be bad since you didn't explicitly set num_leaves OR 2^max_depth > num_leaves. (num_leaves=31).\n",
      "[LightGBM] [Warning] Accuracy may be bad since you didn't explicitly set num_leaves OR 2^max_depth > num_leaves. (num_leaves=31).\n"
     ]
    },
    {
     "data": {
      "text/html": [
       "<style>#sk-container-id-6 {color: black;}#sk-container-id-6 pre{padding: 0;}#sk-container-id-6 div.sk-toggleable {background-color: white;}#sk-container-id-6 label.sk-toggleable__label {cursor: pointer;display: block;width: 100%;margin-bottom: 0;padding: 0.3em;box-sizing: border-box;text-align: center;}#sk-container-id-6 label.sk-toggleable__label-arrow:before {content: \"▸\";float: left;margin-right: 0.25em;color: #696969;}#sk-container-id-6 label.sk-toggleable__label-arrow:hover:before {color: black;}#sk-container-id-6 div.sk-estimator:hover label.sk-toggleable__label-arrow:before {color: black;}#sk-container-id-6 div.sk-toggleable__content {max-height: 0;max-width: 0;overflow: hidden;text-align: left;background-color: #f0f8ff;}#sk-container-id-6 div.sk-toggleable__content pre {margin: 0.2em;color: black;border-radius: 0.25em;background-color: #f0f8ff;}#sk-container-id-6 input.sk-toggleable__control:checked~div.sk-toggleable__content {max-height: 200px;max-width: 100%;overflow: auto;}#sk-container-id-6 input.sk-toggleable__control:checked~label.sk-toggleable__label-arrow:before {content: \"▾\";}#sk-container-id-6 div.sk-estimator input.sk-toggleable__control:checked~label.sk-toggleable__label {background-color: #d4ebff;}#sk-container-id-6 div.sk-label input.sk-toggleable__control:checked~label.sk-toggleable__label {background-color: #d4ebff;}#sk-container-id-6 input.sk-hidden--visually {border: 0;clip: rect(1px 1px 1px 1px);clip: rect(1px, 1px, 1px, 1px);height: 1px;margin: -1px;overflow: hidden;padding: 0;position: absolute;width: 1px;}#sk-container-id-6 div.sk-estimator {font-family: monospace;background-color: #f0f8ff;border: 1px dotted black;border-radius: 0.25em;box-sizing: border-box;margin-bottom: 0.5em;}#sk-container-id-6 div.sk-estimator:hover {background-color: #d4ebff;}#sk-container-id-6 div.sk-parallel-item::after {content: \"\";width: 100%;border-bottom: 1px solid gray;flex-grow: 1;}#sk-container-id-6 div.sk-label:hover label.sk-toggleable__label {background-color: #d4ebff;}#sk-container-id-6 div.sk-serial::before {content: \"\";position: absolute;border-left: 1px solid gray;box-sizing: border-box;top: 0;bottom: 0;left: 50%;z-index: 0;}#sk-container-id-6 div.sk-serial {display: flex;flex-direction: column;align-items: center;background-color: white;padding-right: 0.2em;padding-left: 0.2em;position: relative;}#sk-container-id-6 div.sk-item {position: relative;z-index: 1;}#sk-container-id-6 div.sk-parallel {display: flex;align-items: stretch;justify-content: center;background-color: white;position: relative;}#sk-container-id-6 div.sk-item::before, #sk-container-id-6 div.sk-parallel-item::before {content: \"\";position: absolute;border-left: 1px solid gray;box-sizing: border-box;top: 0;bottom: 0;left: 50%;z-index: -1;}#sk-container-id-6 div.sk-parallel-item {display: flex;flex-direction: column;z-index: 1;position: relative;background-color: white;}#sk-container-id-6 div.sk-parallel-item:first-child::after {align-self: flex-end;width: 50%;}#sk-container-id-6 div.sk-parallel-item:last-child::after {align-self: flex-start;width: 50%;}#sk-container-id-6 div.sk-parallel-item:only-child::after {width: 0;}#sk-container-id-6 div.sk-dashed-wrapped {border: 1px dashed gray;margin: 0 0.4em 0.5em 0.4em;box-sizing: border-box;padding-bottom: 0.4em;background-color: white;}#sk-container-id-6 div.sk-label label {font-family: monospace;font-weight: bold;display: inline-block;line-height: 1.2em;}#sk-container-id-6 div.sk-label-container {text-align: center;}#sk-container-id-6 div.sk-container {/* jupyter's `normalize.less` sets `[hidden] { display: none; }` but bootstrap.min.css set `[hidden] { display: none !important; }` so we also need the `!important` here to be able to override the default hidden behavior on the sphinx rendered scikit-learn.org. See: https://github.com/scikit-learn/scikit-learn/issues/21755 */display: inline-block !important;position: relative;}#sk-container-id-6 div.sk-text-repr-fallback {display: none;}</style><div id=\"sk-container-id-6\" class=\"sk-top-container\"><div class=\"sk-text-repr-fallback\"><pre>GridSearchCV(cv=5,\n",
       "             estimator=Pipeline(steps=[(&#x27;data_prep&#x27;,\n",
       "                                        Pipeline(steps=[(&#x27;features&#x27;,\n",
       "                                                         FeatureUnion(n_jobs=1,\n",
       "                                                                      transformer_list=[(&#x27;boolean&#x27;,\n",
       "                                                                                         Pipeline(steps=[(&#x27;selector&#x27;,\n",
       "                                                                                                          TypeSelector(dtype=&#x27;bool&#x27;))])),\n",
       "                                                                                        (&#x27;numericals&#x27;,\n",
       "                                                                                         Pipeline(steps=[(&#x27;selector&#x27;,\n",
       "                                                                                                          TypeSelector(dtype=&lt;class &#x27;numpy.number&#x27;&gt;)),\n",
       "                                                                                                         (&#x27;imputer&#x27;,\n",
       "                                                                                                          SimpleImputer())]))]))])),\n",
       "                                       (&#x27;LGBM Classifier&#x27;,\n",
       "                                        LGBMClassifier(objective=&#x27;multiclass&#x27;,\n",
       "                                                       random_state=777,\n",
       "                                                       verbosity=0))]),\n",
       "             n_jobs=-1,\n",
       "             param_grid={&#x27;LGBM Classifier__learning_rate&#x27;: [0.01, 0.05, 0.1],\n",
       "                         &#x27;LGBM Classifier__max_depth&#x27;: [5, 10, 15],\n",
       "                         &#x27;LGBM Classifier__n_estimators&#x27;: [100, 200, 300],\n",
       "                         &#x27;LGBM Classifier__num_leaves&#x27;: [31, 50, 70]},\n",
       "             refit=&#x27;f1_macro&#x27;,\n",
       "             scoring={&#x27;f1_macro&#x27;: make_scorer(f1_score, average=macro)},\n",
       "             verbose=1)</pre><b>In a Jupyter environment, please rerun this cell to show the HTML representation or trust the notebook. <br />On GitHub, the HTML representation is unable to render, please try loading this page with nbviewer.org.</b></div><div class=\"sk-container\" hidden><div class=\"sk-item sk-dashed-wrapped\"><div class=\"sk-label-container\"><div class=\"sk-label sk-toggleable\"><input class=\"sk-toggleable__control sk-hidden--visually\" id=\"sk-estimator-id-37\" type=\"checkbox\" ><label for=\"sk-estimator-id-37\" class=\"sk-toggleable__label sk-toggleable__label-arrow\">GridSearchCV</label><div class=\"sk-toggleable__content\"><pre>GridSearchCV(cv=5,\n",
       "             estimator=Pipeline(steps=[(&#x27;data_prep&#x27;,\n",
       "                                        Pipeline(steps=[(&#x27;features&#x27;,\n",
       "                                                         FeatureUnion(n_jobs=1,\n",
       "                                                                      transformer_list=[(&#x27;boolean&#x27;,\n",
       "                                                                                         Pipeline(steps=[(&#x27;selector&#x27;,\n",
       "                                                                                                          TypeSelector(dtype=&#x27;bool&#x27;))])),\n",
       "                                                                                        (&#x27;numericals&#x27;,\n",
       "                                                                                         Pipeline(steps=[(&#x27;selector&#x27;,\n",
       "                                                                                                          TypeSelector(dtype=&lt;class &#x27;numpy.number&#x27;&gt;)),\n",
       "                                                                                                         (&#x27;imputer&#x27;,\n",
       "                                                                                                          SimpleImputer())]))]))])),\n",
       "                                       (&#x27;LGBM Classifier&#x27;,\n",
       "                                        LGBMClassifier(objective=&#x27;multiclass&#x27;,\n",
       "                                                       random_state=777,\n",
       "                                                       verbosity=0))]),\n",
       "             n_jobs=-1,\n",
       "             param_grid={&#x27;LGBM Classifier__learning_rate&#x27;: [0.01, 0.05, 0.1],\n",
       "                         &#x27;LGBM Classifier__max_depth&#x27;: [5, 10, 15],\n",
       "                         &#x27;LGBM Classifier__n_estimators&#x27;: [100, 200, 300],\n",
       "                         &#x27;LGBM Classifier__num_leaves&#x27;: [31, 50, 70]},\n",
       "             refit=&#x27;f1_macro&#x27;,\n",
       "             scoring={&#x27;f1_macro&#x27;: make_scorer(f1_score, average=macro)},\n",
       "             verbose=1)</pre></div></div></div><div class=\"sk-parallel\"><div class=\"sk-parallel-item\"><div class=\"sk-item\"><div class=\"sk-label-container\"><div class=\"sk-label sk-toggleable\"><input class=\"sk-toggleable__control sk-hidden--visually\" id=\"sk-estimator-id-38\" type=\"checkbox\" ><label for=\"sk-estimator-id-38\" class=\"sk-toggleable__label sk-toggleable__label-arrow\">estimator: Pipeline</label><div class=\"sk-toggleable__content\"><pre>Pipeline(steps=[(&#x27;data_prep&#x27;,\n",
       "                 Pipeline(steps=[(&#x27;features&#x27;,\n",
       "                                  FeatureUnion(n_jobs=1,\n",
       "                                               transformer_list=[(&#x27;boolean&#x27;,\n",
       "                                                                  Pipeline(steps=[(&#x27;selector&#x27;,\n",
       "                                                                                   TypeSelector(dtype=&#x27;bool&#x27;))])),\n",
       "                                                                 (&#x27;numericals&#x27;,\n",
       "                                                                  Pipeline(steps=[(&#x27;selector&#x27;,\n",
       "                                                                                   TypeSelector(dtype=&lt;class &#x27;numpy.number&#x27;&gt;)),\n",
       "                                                                                  (&#x27;imputer&#x27;,\n",
       "                                                                                   SimpleImputer())]))]))])),\n",
       "                (&#x27;LGBM Classifier&#x27;,\n",
       "                 LGBMClassifier(objective=&#x27;multiclass&#x27;, random_state=777,\n",
       "                                verbosity=0))])</pre></div></div></div><div class=\"sk-serial\"><div class=\"sk-item\"><div class=\"sk-serial\"><div class=\"sk-item\"><div class=\"sk-label-container\"><div class=\"sk-label sk-toggleable\"><input class=\"sk-toggleable__control sk-hidden--visually\" id=\"sk-estimator-id-39\" type=\"checkbox\" ><label for=\"sk-estimator-id-39\" class=\"sk-toggleable__label sk-toggleable__label-arrow\">data_prep: Pipeline</label><div class=\"sk-toggleable__content\"><pre>Pipeline(steps=[(&#x27;features&#x27;,\n",
       "                 FeatureUnion(n_jobs=1,\n",
       "                              transformer_list=[(&#x27;boolean&#x27;,\n",
       "                                                 Pipeline(steps=[(&#x27;selector&#x27;,\n",
       "                                                                  TypeSelector(dtype=&#x27;bool&#x27;))])),\n",
       "                                                (&#x27;numericals&#x27;,\n",
       "                                                 Pipeline(steps=[(&#x27;selector&#x27;,\n",
       "                                                                  TypeSelector(dtype=&lt;class &#x27;numpy.number&#x27;&gt;)),\n",
       "                                                                 (&#x27;imputer&#x27;,\n",
       "                                                                  SimpleImputer())]))]))])</pre></div></div></div><div class=\"sk-serial\"><div class=\"sk-item sk-dashed-wrapped\"><div class=\"sk-label-container\"><div class=\"sk-label sk-toggleable\"><input class=\"sk-toggleable__control sk-hidden--visually\" id=\"sk-estimator-id-40\" type=\"checkbox\" ><label for=\"sk-estimator-id-40\" class=\"sk-toggleable__label sk-toggleable__label-arrow\">features: FeatureUnion</label><div class=\"sk-toggleable__content\"><pre>FeatureUnion(n_jobs=1,\n",
       "             transformer_list=[(&#x27;boolean&#x27;,\n",
       "                                Pipeline(steps=[(&#x27;selector&#x27;,\n",
       "                                                 TypeSelector(dtype=&#x27;bool&#x27;))])),\n",
       "                               (&#x27;numericals&#x27;,\n",
       "                                Pipeline(steps=[(&#x27;selector&#x27;,\n",
       "                                                 TypeSelector(dtype=&lt;class &#x27;numpy.number&#x27;&gt;)),\n",
       "                                                (&#x27;imputer&#x27;,\n",
       "                                                 SimpleImputer())]))])</pre></div></div></div><div class=\"sk-parallel\"><div class=\"sk-parallel-item\"><div class=\"sk-item\"><div class=\"sk-label-container\"><div class=\"sk-label sk-toggleable\"><label>boolean</label></div></div><div class=\"sk-serial\"><div class=\"sk-item\"><div class=\"sk-serial\"><div class=\"sk-item\"><div class=\"sk-estimator sk-toggleable\"><input class=\"sk-toggleable__control sk-hidden--visually\" id=\"sk-estimator-id-41\" type=\"checkbox\" ><label for=\"sk-estimator-id-41\" class=\"sk-toggleable__label sk-toggleable__label-arrow\">TypeSelector</label><div class=\"sk-toggleable__content\"><pre>TypeSelector(dtype=&#x27;bool&#x27;)</pre></div></div></div></div></div></div></div></div><div class=\"sk-parallel-item\"><div class=\"sk-item\"><div class=\"sk-label-container\"><div class=\"sk-label sk-toggleable\"><label>numericals</label></div></div><div class=\"sk-serial\"><div class=\"sk-item\"><div class=\"sk-serial\"><div class=\"sk-item\"><div class=\"sk-estimator sk-toggleable\"><input class=\"sk-toggleable__control sk-hidden--visually\" id=\"sk-estimator-id-42\" type=\"checkbox\" ><label for=\"sk-estimator-id-42\" class=\"sk-toggleable__label sk-toggleable__label-arrow\">TypeSelector</label><div class=\"sk-toggleable__content\"><pre>TypeSelector(dtype=&lt;class &#x27;numpy.number&#x27;&gt;)</pre></div></div></div><div class=\"sk-item\"><div class=\"sk-estimator sk-toggleable\"><input class=\"sk-toggleable__control sk-hidden--visually\" id=\"sk-estimator-id-43\" type=\"checkbox\" ><label for=\"sk-estimator-id-43\" class=\"sk-toggleable__label sk-toggleable__label-arrow\">SimpleImputer</label><div class=\"sk-toggleable__content\"><pre>SimpleImputer()</pre></div></div></div></div></div></div></div></div></div></div></div></div><div class=\"sk-item\"><div class=\"sk-estimator sk-toggleable\"><input class=\"sk-toggleable__control sk-hidden--visually\" id=\"sk-estimator-id-44\" type=\"checkbox\" ><label for=\"sk-estimator-id-44\" class=\"sk-toggleable__label sk-toggleable__label-arrow\">LGBMClassifier</label><div class=\"sk-toggleable__content\"><pre>LGBMClassifier(objective=&#x27;multiclass&#x27;, random_state=777, verbosity=0)</pre></div></div></div></div></div></div></div></div></div></div></div></div>"
      ],
      "text/plain": [
       "GridSearchCV(cv=5,\n",
       "             estimator=Pipeline(steps=[('data_prep',\n",
       "                                        Pipeline(steps=[('features',\n",
       "                                                         FeatureUnion(n_jobs=1,\n",
       "                                                                      transformer_list=[('boolean',\n",
       "                                                                                         Pipeline(steps=[('selector',\n",
       "                                                                                                          TypeSelector(dtype='bool'))])),\n",
       "                                                                                        ('numericals',\n",
       "                                                                                         Pipeline(steps=[('selector',\n",
       "                                                                                                          TypeSelector(dtype=<class 'numpy.number'>)),\n",
       "                                                                                                         ('imputer',\n",
       "                                                                                                          SimpleImputer())]))]))])),\n",
       "                                       ('LGBM Classifier',\n",
       "                                        LGBMClassifier(objective='multiclass',\n",
       "                                                       random_state=777,\n",
       "                                                       verbosity=0))]),\n",
       "             n_jobs=-1,\n",
       "             param_grid={'LGBM Classifier__learning_rate': [0.01, 0.05, 0.1],\n",
       "                         'LGBM Classifier__max_depth': [5, 10, 15],\n",
       "                         'LGBM Classifier__n_estimators': [100, 200, 300],\n",
       "                         'LGBM Classifier__num_leaves': [31, 50, 70]},\n",
       "             refit='f1_macro',\n",
       "             scoring={'f1_macro': make_scorer(f1_score, average=macro)},\n",
       "             verbose=1)"
      ]
     },
     "execution_count": 182,
     "metadata": {},
     "output_type": "execute_result"
    }
   ],
   "source": [
    "# Fit GridSearchCV\n",
    "grid_search.fit(X, y)"
   ]
  },
  {
   "cell_type": "code",
   "execution_count": 184,
   "metadata": {},
   "outputs": [
    {
     "name": "stdout",
     "output_type": "stream",
     "text": [
      "Best Parameters: {'LGBM Classifier__learning_rate': 0.05, 'LGBM Classifier__max_depth': 15, 'LGBM Classifier__n_estimators': 100, 'LGBM Classifier__num_leaves': 31}\n"
     ]
    }
   ],
   "source": [
    "# Get the best parameters and best score\n",
    "best_params = grid_search.best_params_\n",
    "print(f\"Best Parameters: {best_params}\")"
   ]
  },
  {
   "cell_type": "markdown",
   "metadata": {},
   "source": [
    "### Predictions"
   ]
  },
  {
   "cell_type": "code",
   "execution_count": 187,
   "metadata": {},
   "outputs": [],
   "source": [
    "# Split the data into training and test sets\n",
    "X_train, X_test, y_train, y_test = train_test_split(X, y, test_size=0.2, random_state=SEED)"
   ]
  },
  {
   "cell_type": "code",
   "execution_count": 196,
   "metadata": {},
   "outputs": [
    {
     "data": {
      "text/html": [
       "<style>#sk-container-id-7 {color: black;}#sk-container-id-7 pre{padding: 0;}#sk-container-id-7 div.sk-toggleable {background-color: white;}#sk-container-id-7 label.sk-toggleable__label {cursor: pointer;display: block;width: 100%;margin-bottom: 0;padding: 0.3em;box-sizing: border-box;text-align: center;}#sk-container-id-7 label.sk-toggleable__label-arrow:before {content: \"▸\";float: left;margin-right: 0.25em;color: #696969;}#sk-container-id-7 label.sk-toggleable__label-arrow:hover:before {color: black;}#sk-container-id-7 div.sk-estimator:hover label.sk-toggleable__label-arrow:before {color: black;}#sk-container-id-7 div.sk-toggleable__content {max-height: 0;max-width: 0;overflow: hidden;text-align: left;background-color: #f0f8ff;}#sk-container-id-7 div.sk-toggleable__content pre {margin: 0.2em;color: black;border-radius: 0.25em;background-color: #f0f8ff;}#sk-container-id-7 input.sk-toggleable__control:checked~div.sk-toggleable__content {max-height: 200px;max-width: 100%;overflow: auto;}#sk-container-id-7 input.sk-toggleable__control:checked~label.sk-toggleable__label-arrow:before {content: \"▾\";}#sk-container-id-7 div.sk-estimator input.sk-toggleable__control:checked~label.sk-toggleable__label {background-color: #d4ebff;}#sk-container-id-7 div.sk-label input.sk-toggleable__control:checked~label.sk-toggleable__label {background-color: #d4ebff;}#sk-container-id-7 input.sk-hidden--visually {border: 0;clip: rect(1px 1px 1px 1px);clip: rect(1px, 1px, 1px, 1px);height: 1px;margin: -1px;overflow: hidden;padding: 0;position: absolute;width: 1px;}#sk-container-id-7 div.sk-estimator {font-family: monospace;background-color: #f0f8ff;border: 1px dotted black;border-radius: 0.25em;box-sizing: border-box;margin-bottom: 0.5em;}#sk-container-id-7 div.sk-estimator:hover {background-color: #d4ebff;}#sk-container-id-7 div.sk-parallel-item::after {content: \"\";width: 100%;border-bottom: 1px solid gray;flex-grow: 1;}#sk-container-id-7 div.sk-label:hover label.sk-toggleable__label {background-color: #d4ebff;}#sk-container-id-7 div.sk-serial::before {content: \"\";position: absolute;border-left: 1px solid gray;box-sizing: border-box;top: 0;bottom: 0;left: 50%;z-index: 0;}#sk-container-id-7 div.sk-serial {display: flex;flex-direction: column;align-items: center;background-color: white;padding-right: 0.2em;padding-left: 0.2em;position: relative;}#sk-container-id-7 div.sk-item {position: relative;z-index: 1;}#sk-container-id-7 div.sk-parallel {display: flex;align-items: stretch;justify-content: center;background-color: white;position: relative;}#sk-container-id-7 div.sk-item::before, #sk-container-id-7 div.sk-parallel-item::before {content: \"\";position: absolute;border-left: 1px solid gray;box-sizing: border-box;top: 0;bottom: 0;left: 50%;z-index: -1;}#sk-container-id-7 div.sk-parallel-item {display: flex;flex-direction: column;z-index: 1;position: relative;background-color: white;}#sk-container-id-7 div.sk-parallel-item:first-child::after {align-self: flex-end;width: 50%;}#sk-container-id-7 div.sk-parallel-item:last-child::after {align-self: flex-start;width: 50%;}#sk-container-id-7 div.sk-parallel-item:only-child::after {width: 0;}#sk-container-id-7 div.sk-dashed-wrapped {border: 1px dashed gray;margin: 0 0.4em 0.5em 0.4em;box-sizing: border-box;padding-bottom: 0.4em;background-color: white;}#sk-container-id-7 div.sk-label label {font-family: monospace;font-weight: bold;display: inline-block;line-height: 1.2em;}#sk-container-id-7 div.sk-label-container {text-align: center;}#sk-container-id-7 div.sk-container {/* jupyter's `normalize.less` sets `[hidden] { display: none; }` but bootstrap.min.css set `[hidden] { display: none !important; }` so we also need the `!important` here to be able to override the default hidden behavior on the sphinx rendered scikit-learn.org. See: https://github.com/scikit-learn/scikit-learn/issues/21755 */display: inline-block !important;position: relative;}#sk-container-id-7 div.sk-text-repr-fallback {display: none;}</style><div id=\"sk-container-id-7\" class=\"sk-top-container\"><div class=\"sk-text-repr-fallback\"><pre>Pipeline(steps=[(&#x27;data_prep&#x27;,\n",
       "                 Pipeline(steps=[(&#x27;features&#x27;,\n",
       "                                  FeatureUnion(n_jobs=1,\n",
       "                                               transformer_list=[(&#x27;boolean&#x27;,\n",
       "                                                                  Pipeline(steps=[(&#x27;selector&#x27;,\n",
       "                                                                                   TypeSelector(dtype=&#x27;bool&#x27;))])),\n",
       "                                                                 (&#x27;numericals&#x27;,\n",
       "                                                                  Pipeline(steps=[(&#x27;selector&#x27;,\n",
       "                                                                                   TypeSelector(dtype=&lt;class &#x27;numpy.number&#x27;&gt;)),\n",
       "                                                                                  (&#x27;imputer&#x27;,\n",
       "                                                                                   SimpleImputer())]))]))])),\n",
       "                (&#x27;LGBM Classifier&#x27;,\n",
       "                 LGBMClassifier(learning_rate=0.05, max_depth=15,\n",
       "                                objective=&#x27;multiclass&#x27;, random_state=777,\n",
       "                                verbosity=0))])</pre><b>In a Jupyter environment, please rerun this cell to show the HTML representation or trust the notebook. <br />On GitHub, the HTML representation is unable to render, please try loading this page with nbviewer.org.</b></div><div class=\"sk-container\" hidden><div class=\"sk-item sk-dashed-wrapped\"><div class=\"sk-label-container\"><div class=\"sk-label sk-toggleable\"><input class=\"sk-toggleable__control sk-hidden--visually\" id=\"sk-estimator-id-45\" type=\"checkbox\" ><label for=\"sk-estimator-id-45\" class=\"sk-toggleable__label sk-toggleable__label-arrow\">Pipeline</label><div class=\"sk-toggleable__content\"><pre>Pipeline(steps=[(&#x27;data_prep&#x27;,\n",
       "                 Pipeline(steps=[(&#x27;features&#x27;,\n",
       "                                  FeatureUnion(n_jobs=1,\n",
       "                                               transformer_list=[(&#x27;boolean&#x27;,\n",
       "                                                                  Pipeline(steps=[(&#x27;selector&#x27;,\n",
       "                                                                                   TypeSelector(dtype=&#x27;bool&#x27;))])),\n",
       "                                                                 (&#x27;numericals&#x27;,\n",
       "                                                                  Pipeline(steps=[(&#x27;selector&#x27;,\n",
       "                                                                                   TypeSelector(dtype=&lt;class &#x27;numpy.number&#x27;&gt;)),\n",
       "                                                                                  (&#x27;imputer&#x27;,\n",
       "                                                                                   SimpleImputer())]))]))])),\n",
       "                (&#x27;LGBM Classifier&#x27;,\n",
       "                 LGBMClassifier(learning_rate=0.05, max_depth=15,\n",
       "                                objective=&#x27;multiclass&#x27;, random_state=777,\n",
       "                                verbosity=0))])</pre></div></div></div><div class=\"sk-serial\"><div class=\"sk-item\"><div class=\"sk-label-container\"><div class=\"sk-label sk-toggleable\"><input class=\"sk-toggleable__control sk-hidden--visually\" id=\"sk-estimator-id-46\" type=\"checkbox\" ><label for=\"sk-estimator-id-46\" class=\"sk-toggleable__label sk-toggleable__label-arrow\">data_prep: Pipeline</label><div class=\"sk-toggleable__content\"><pre>Pipeline(steps=[(&#x27;features&#x27;,\n",
       "                 FeatureUnion(n_jobs=1,\n",
       "                              transformer_list=[(&#x27;boolean&#x27;,\n",
       "                                                 Pipeline(steps=[(&#x27;selector&#x27;,\n",
       "                                                                  TypeSelector(dtype=&#x27;bool&#x27;))])),\n",
       "                                                (&#x27;numericals&#x27;,\n",
       "                                                 Pipeline(steps=[(&#x27;selector&#x27;,\n",
       "                                                                  TypeSelector(dtype=&lt;class &#x27;numpy.number&#x27;&gt;)),\n",
       "                                                                 (&#x27;imputer&#x27;,\n",
       "                                                                  SimpleImputer())]))]))])</pre></div></div></div><div class=\"sk-serial\"><div class=\"sk-item sk-dashed-wrapped\"><div class=\"sk-label-container\"><div class=\"sk-label sk-toggleable\"><input class=\"sk-toggleable__control sk-hidden--visually\" id=\"sk-estimator-id-47\" type=\"checkbox\" ><label for=\"sk-estimator-id-47\" class=\"sk-toggleable__label sk-toggleable__label-arrow\">features: FeatureUnion</label><div class=\"sk-toggleable__content\"><pre>FeatureUnion(n_jobs=1,\n",
       "             transformer_list=[(&#x27;boolean&#x27;,\n",
       "                                Pipeline(steps=[(&#x27;selector&#x27;,\n",
       "                                                 TypeSelector(dtype=&#x27;bool&#x27;))])),\n",
       "                               (&#x27;numericals&#x27;,\n",
       "                                Pipeline(steps=[(&#x27;selector&#x27;,\n",
       "                                                 TypeSelector(dtype=&lt;class &#x27;numpy.number&#x27;&gt;)),\n",
       "                                                (&#x27;imputer&#x27;,\n",
       "                                                 SimpleImputer())]))])</pre></div></div></div><div class=\"sk-parallel\"><div class=\"sk-parallel-item\"><div class=\"sk-item\"><div class=\"sk-label-container\"><div class=\"sk-label sk-toggleable\"><label>boolean</label></div></div><div class=\"sk-serial\"><div class=\"sk-item\"><div class=\"sk-serial\"><div class=\"sk-item\"><div class=\"sk-estimator sk-toggleable\"><input class=\"sk-toggleable__control sk-hidden--visually\" id=\"sk-estimator-id-48\" type=\"checkbox\" ><label for=\"sk-estimator-id-48\" class=\"sk-toggleable__label sk-toggleable__label-arrow\">TypeSelector</label><div class=\"sk-toggleable__content\"><pre>TypeSelector(dtype=&#x27;bool&#x27;)</pre></div></div></div></div></div></div></div></div><div class=\"sk-parallel-item\"><div class=\"sk-item\"><div class=\"sk-label-container\"><div class=\"sk-label sk-toggleable\"><label>numericals</label></div></div><div class=\"sk-serial\"><div class=\"sk-item\"><div class=\"sk-serial\"><div class=\"sk-item\"><div class=\"sk-estimator sk-toggleable\"><input class=\"sk-toggleable__control sk-hidden--visually\" id=\"sk-estimator-id-49\" type=\"checkbox\" ><label for=\"sk-estimator-id-49\" class=\"sk-toggleable__label sk-toggleable__label-arrow\">TypeSelector</label><div class=\"sk-toggleable__content\"><pre>TypeSelector(dtype=&lt;class &#x27;numpy.number&#x27;&gt;)</pre></div></div></div><div class=\"sk-item\"><div class=\"sk-estimator sk-toggleable\"><input class=\"sk-toggleable__control sk-hidden--visually\" id=\"sk-estimator-id-50\" type=\"checkbox\" ><label for=\"sk-estimator-id-50\" class=\"sk-toggleable__label sk-toggleable__label-arrow\">SimpleImputer</label><div class=\"sk-toggleable__content\"><pre>SimpleImputer()</pre></div></div></div></div></div></div></div></div></div></div></div></div><div class=\"sk-item\"><div class=\"sk-estimator sk-toggleable\"><input class=\"sk-toggleable__control sk-hidden--visually\" id=\"sk-estimator-id-51\" type=\"checkbox\" ><label for=\"sk-estimator-id-51\" class=\"sk-toggleable__label sk-toggleable__label-arrow\">LGBMClassifier</label><div class=\"sk-toggleable__content\"><pre>LGBMClassifier(learning_rate=0.05, max_depth=15, objective=&#x27;multiclass&#x27;,\n",
       "               random_state=777, verbosity=0)</pre></div></div></div></div></div></div></div>"
      ],
      "text/plain": [
       "Pipeline(steps=[('data_prep',\n",
       "                 Pipeline(steps=[('features',\n",
       "                                  FeatureUnion(n_jobs=1,\n",
       "                                               transformer_list=[('boolean',\n",
       "                                                                  Pipeline(steps=[('selector',\n",
       "                                                                                   TypeSelector(dtype='bool'))])),\n",
       "                                                                 ('numericals',\n",
       "                                                                  Pipeline(steps=[('selector',\n",
       "                                                                                   TypeSelector(dtype=<class 'numpy.number'>)),\n",
       "                                                                                  ('imputer',\n",
       "                                                                                   SimpleImputer())]))]))])),\n",
       "                ('LGBM Classifier',\n",
       "                 LGBMClassifier(learning_rate=0.05, max_depth=15,\n",
       "                                objective='multiclass', random_state=777,\n",
       "                                verbosity=0))])"
      ]
     },
     "execution_count": 196,
     "metadata": {},
     "output_type": "execute_result"
    }
   ],
   "source": [
    "# Get the best estimator\n",
    "best_model = grid_search.best_estimator_\n",
    "best_model"
   ]
  },
  {
   "cell_type": "code",
   "execution_count": 188,
   "metadata": {},
   "outputs": [
    {
     "name": "stdout",
     "output_type": "stream",
     "text": [
      "[LightGBM] [Warning] Accuracy may be bad since you didn't explicitly set num_leaves OR 2^max_depth > num_leaves. (num_leaves=31).\n"
     ]
    }
   ],
   "source": [
    "# Make predictions on the test set\n",
    "y_pred = best_model.predict(X_test)"
   ]
  },
  {
   "cell_type": "code",
   "execution_count": 194,
   "metadata": {},
   "outputs": [],
   "source": [
    "# Calculate and print the metrics\n",
    "accuracy = accuracy_score(y_test, y_pred)\n",
    "precision = precision_score(y_test, y_pred, average='macro')\n",
    "recall = recall_score(y_test, y_pred, average='macro')\n",
    "f1 = f1_score(y_test, y_pred, average='weighted')"
   ]
  },
  {
   "cell_type": "code",
   "execution_count": 195,
   "metadata": {},
   "outputs": [
    {
     "name": "stdout",
     "output_type": "stream",
     "text": [
      "Accuracy: 0.72\n",
      "Precision: 0.71\n",
      "Recall: 0.69\n",
      "F1 Score: 0.72\n",
      "\n",
      "Classification Report:\n",
      "               precision    recall  f1-score   support\n",
      "\n",
      "           0       0.76      0.65      0.70      5381\n",
      "           1       0.73      0.79      0.76     10378\n",
      "           2       0.63      0.62      0.62      3581\n",
      "\n",
      "    accuracy                           0.72     19340\n",
      "   macro avg       0.71      0.69      0.69     19340\n",
      "weighted avg       0.72      0.72      0.72     19340\n",
      "\n"
     ]
    }
   ],
   "source": [
    "print(f'Accuracy: {accuracy:.2f}')\n",
    "print(f'Precision: {precision:.2f}')\n",
    "print(f'Recall: {recall:.2f}')\n",
    "print(f'F1 Score: {f1:.2f}')\n",
    "print('\\nClassification Report:\\n', classification_report(y_test, y_pred))"
   ]
  }
 ],
 "metadata": {
  "kernelspec": {
   "display_name": "tf",
   "language": "python",
   "name": "python3"
  },
  "language_info": {
   "codemirror_mode": {
    "name": "ipython",
    "version": 3
   },
   "file_extension": ".py",
   "mimetype": "text/x-python",
   "name": "python",
   "nbconvert_exporter": "python",
   "pygments_lexer": "ipython3",
   "version": "3.10.14"
  }
 },
 "nbformat": 4,
 "nbformat_minor": 2
}
