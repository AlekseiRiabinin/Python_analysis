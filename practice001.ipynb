{
 "cells": [
  {
   "attachments": {},
   "cell_type": "markdown",
   "metadata": {},
   "source": [
    "## Task 1"
   ]
  },
  {
   "attachments": {},
   "cell_type": "markdown",
   "metadata": {},
   "source": [
    "На складе лежат разные фрукты в разном количестве.\n",
    "Нужно написать функцию, которая на вход принимает любое количество названий фруктов и их количество, а возвращает общее количество фруктов на складе"
   ]
  },
  {
   "cell_type": "code",
   "execution_count": 1,
   "metadata": {},
   "outputs": [],
   "source": [
    "# initial data\n",
    "dict1 = {'apple': 1, 'pear': 2, 'orange': 3}"
   ]
  },
  {
   "cell_type": "code",
   "execution_count": 4,
   "metadata": {},
   "outputs": [],
   "source": [
    "# calculate a total amount of fruits\n",
    "def func1(data: dict) -> int:\n",
    "    return sum(data.values())"
   ]
  },
  {
   "cell_type": "code",
   "execution_count": 24,
   "metadata": {},
   "outputs": [
    {
     "name": "stdout",
     "output_type": "stream",
     "text": [
      "amount of fruits: 6\n"
     ]
    }
   ],
   "source": [
    "print(f'amount of fruits: {func1(dict1)}')"
   ]
  },
  {
   "attachments": {},
   "cell_type": "markdown",
   "metadata": {},
   "source": [
    "## Task 2"
   ]
  },
  {
   "attachments": {},
   "cell_type": "markdown",
   "metadata": {},
   "source": [
    "Дан список с затратами на рекламу. Но в данных есть ошибки, некоторые затраты имеют отрицательную величину. Удалите такие значения из списка и посчитайте суммарные затраты. Используйте list comprehensions."
   ]
  },
  {
   "cell_type": "code",
   "execution_count": 15,
   "metadata": {},
   "outputs": [],
   "source": [
    "# initial data\n",
    "lst2 = [100, 125, -90, 345, 655, -1, 0, 200]"
   ]
  },
  {
   "cell_type": "code",
   "execution_count": 20,
   "metadata": {},
   "outputs": [],
   "source": [
    "# calculate total expenses\n",
    "def func2(data: list) -> int:\n",
    "    total = 0\n",
    "    return [total := total + x for x in data if x >= 0][-1]    "
   ]
  },
  {
   "cell_type": "code",
   "execution_count": 23,
   "metadata": {},
   "outputs": [
    {
     "name": "stdout",
     "output_type": "stream",
     "text": [
      "total expenses: 1425\n"
     ]
    }
   ],
   "source": [
    "print(f'total expenses: {func2(lst2)}')"
   ]
  },
  {
   "attachments": {},
   "cell_type": "markdown",
   "metadata": {},
   "source": [
    "## Task 3"
   ]
  },
  {
   "attachments": {},
   "cell_type": "markdown",
   "metadata": {},
   "source": [
    "Даны два списка: дата покупки и суммы покупок по датам.\n",
    "1. Найдите, какая выручка у компании в ноябре. Используйте list comprehensions.\n",
    "2. Найдите выручку компании в зависимости от месяца. Для этого напишите функцию, которая на вход принимает список с датами и список с выручкой, а на выходе словарь, где ключи - это месяцы, а значения - это выручка.\n",
    "Используйте аннотирование типов."
   ]
  },
  {
   "cell_type": "code",
   "execution_count": 42,
   "metadata": {},
   "outputs": [],
   "source": [
    "# dates of revenue\n",
    "dates = [\n",
    "    '2021-09-14', '2021-12-15', '2021-09-08', '2021-12-05', '2021-10-09', '2021-09-30', \n",
    "    '2021-12-22', '2021-11-29', '2021-12-24', '2021-11-26', '2021-10-27', '2021-12-18', \n",
    "    '2021-11-09', '2021-11-23', '2021-09-27', '2021-10-02', '2021-12-27', '2021-09-20', \n",
    "    '2021-12-13', '2021-11-01', '2021-11-09', '2021-12-06', '2021-12-08', '2021-10-09', \n",
    "    '2021-10-31', '2021-09-30', '2021-11-09', '2021-12-13', '2021-10-26', '2021-12-09'\n",
    "]\n",
    "\n",
    "# revenue by month\n",
    "revenue = [\n",
    "    1270, 8413, 9028, 3703, 5739, 4095, 295, 4944, 5723, 3701, 4471, 651, 7037, 4274, 6275, \n",
    "    4988, 6930, 2971, 6592, 2004, 2822, 519, 3406, 2732, 5015, 2008, 316, 6333, 5700, 2887\n",
    "]"
   ]
  },
  {
   "cell_type": "code",
   "execution_count": 49,
   "metadata": {},
   "outputs": [],
   "source": [
    "# find a total revenue in Nov and get dict of revenue by month\n",
    "def func3(lst1: list, lst2: list) -> int and dict:\n",
    "    \n",
    "    # convert data to dictionary\n",
    "    data = dict(zip(lst1, lst2))\n",
    "    months = ['2021-09', '2021-10', '2021-11', '2021-12']\n",
    "\n",
    "    # create list of dicts filtered by month\n",
    "    data_filtered = []\n",
    "    for m in months:\n",
    "        data_by_month = {k: v for k, v in data.items() if k.startswith(m)}\n",
    "        data_filtered.append(data_by_month)\n",
    "    \n",
    "    # create dict containing month-revenue key-values pairs\n",
    "    data_dict = {}\n",
    "    for i, m in zip(range(len(data_filtered)), months):\n",
    "        revenue_by_month = sum(data_filtered[i].values())\n",
    "        data_dict[m] = revenue_by_month\n",
    "\n",
    "    return sum(data_filtered[2].values()), data_dict        "
   ]
  },
  {
   "cell_type": "code",
   "execution_count": 50,
   "metadata": {},
   "outputs": [
    {
     "name": "stdout",
     "output_type": "stream",
     "text": [
      "total revenue in november: 15239\n",
      "\n",
      "grouped dict by month (agg by revenue):\n",
      "{'2021-09': 21552, '2021-10': 22906, '2021-11': 15239, '2021-12': 38860}\n"
     ]
    }
   ],
   "source": [
    "print(f'total revenue in november: {func3(dates, revenue)[0]}')\n",
    "print(f'\\ngrouped dict by month (agg by revenue):\\n{func3(dates, revenue)[1]}')"
   ]
  }
 ],
 "metadata": {
  "kernelspec": {
   "display_name": "base",
   "language": "python",
   "name": "python3"
  },
  "language_info": {
   "codemirror_mode": {
    "name": "ipython",
    "version": 3
   },
   "file_extension": ".py",
   "mimetype": "text/x-python",
   "name": "python",
   "nbconvert_exporter": "python",
   "pygments_lexer": "ipython3",
   "version": "3.9.7"
  },
  "orig_nbformat": 4
 },
 "nbformat": 4,
 "nbformat_minor": 2
}
