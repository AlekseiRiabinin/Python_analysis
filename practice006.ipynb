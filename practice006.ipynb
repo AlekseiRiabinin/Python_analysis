{
  "cells": [
    {
      "cell_type": "code",
      "execution_count": 1,
      "metadata": {
        "colab": {
          "base_uri": "https://localhost:8080/"
        },
        "id": "G8hE-51UhSw-",
        "outputId": "4ba2f2bf-52bb-4baf-9a58-fc9539c1f907"
      },
      "outputs": [
        {
          "name": "stdout",
          "output_type": "stream",
          "text": [
            "Mounted at /content/drive\n"
          ]
        }
      ],
      "source": [
        "from google.colab import drive\n",
        "drive.mount('/content/drive')"
      ]
    },
    {
      "cell_type": "code",
      "execution_count": 2,
      "metadata": {
        "id": "Q1lfmM4MeAfC"
      },
      "outputs": [],
      "source": [
        "# import libraries\n",
        "import pandas as pd\n",
        "import numpy as np\n",
        "import seaborn as sns\n",
        "import warnings\n",
        "import torch\n",
        "import torch.nn as nn\n",
        "import torch.optim as optim\n",
        "import scipy.sparse\n",
        "from torch.utils.data import DataLoader, Dataset\n",
        "from torch.optim.lr_scheduler import StepLR, ReduceLROnPlateau\n",
        "from imblearn.over_sampling import SMOTE\n",
        "from sklearn.model_selection import train_test_split\n",
        "from sklearn.preprocessing import StandardScaler, OneHotEncoder\n",
        "from sklearn.compose import ColumnTransformer\n",
        "from sklearn.metrics import f1_score"
      ]
    },
    {
      "cell_type": "code",
      "execution_count": 3,
      "metadata": {
        "id": "eXGoVzgweD1u"
      },
      "outputs": [],
      "source": [
        "# Set global parameters\n",
        "sns.set(style='darkgrid')\n",
        "pd.set_option('display.precision', 2)\n",
        "pd.set_option('mode.chained_assignment', None)\n",
        "warnings.filterwarnings('ignore')"
      ]
    },
    {
      "cell_type": "code",
      "execution_count": 4,
      "metadata": {
        "colab": {
          "base_uri": "https://localhost:8080/",
          "height": 423
        },
        "id": "-OQ8nqbYeD5S",
        "outputId": "926b4efb-3e60-4d31-edd2-a5b92ae4f071"
      },
      "outputs": [
        {
          "data": {
            "text/html": [
              "<style type=\"text/css\">\n",
              "</style>\n",
              "<table id=\"T_97b2b\" class=\"dataframe\">\n",
              "  <thead>\n",
              "    <tr>\n",
              "      <th class=\"blank level0\" >&nbsp;</th>\n",
              "      <th id=\"T_97b2b_level0_col0\" class=\"col_heading level0 col0\" >id</th>\n",
              "      <th id=\"T_97b2b_level0_col1\" class=\"col_heading level0 col1\" >customer_id</th>\n",
              "      <th id=\"T_97b2b_level0_col2\" class=\"col_heading level0 col2\" >month</th>\n",
              "      <th id=\"T_97b2b_level0_col3\" class=\"col_heading level0 col3\" >name</th>\n",
              "      <th id=\"T_97b2b_level0_col4\" class=\"col_heading level0 col4\" >age</th>\n",
              "      <th id=\"T_97b2b_level0_col5\" class=\"col_heading level0 col5\" >ssn</th>\n",
              "      <th id=\"T_97b2b_level0_col6\" class=\"col_heading level0 col6\" >occupation</th>\n",
              "      <th id=\"T_97b2b_level0_col7\" class=\"col_heading level0 col7\" >annual_income</th>\n",
              "      <th id=\"T_97b2b_level0_col8\" class=\"col_heading level0 col8\" >monthly_inhand_salary</th>\n",
              "      <th id=\"T_97b2b_level0_col9\" class=\"col_heading level0 col9\" >credit_history_age</th>\n",
              "      <th id=\"T_97b2b_level0_col10\" class=\"col_heading level0 col10\" >total_emi_per_month</th>\n",
              "      <th id=\"T_97b2b_level0_col11\" class=\"col_heading level0 col11\" >num_bank_accounts</th>\n",
              "      <th id=\"T_97b2b_level0_col12\" class=\"col_heading level0 col12\" >num_credit_card</th>\n",
              "      <th id=\"T_97b2b_level0_col13\" class=\"col_heading level0 col13\" >interest_rate</th>\n",
              "      <th id=\"T_97b2b_level0_col14\" class=\"col_heading level0 col14\" >num_of_loan</th>\n",
              "      <th id=\"T_97b2b_level0_col15\" class=\"col_heading level0 col15\" >type_of_loan</th>\n",
              "      <th id=\"T_97b2b_level0_col16\" class=\"col_heading level0 col16\" >delay_from_due_date</th>\n",
              "      <th id=\"T_97b2b_level0_col17\" class=\"col_heading level0 col17\" >num_of_delayed_payment</th>\n",
              "      <th id=\"T_97b2b_level0_col18\" class=\"col_heading level0 col18\" >changed_credit_limit</th>\n",
              "      <th id=\"T_97b2b_level0_col19\" class=\"col_heading level0 col19\" >num_credit_inquiries</th>\n",
              "      <th id=\"T_97b2b_level0_col20\" class=\"col_heading level0 col20\" >credit_mix</th>\n",
              "      <th id=\"T_97b2b_level0_col21\" class=\"col_heading level0 col21\" >outstanding_debt</th>\n",
              "      <th id=\"T_97b2b_level0_col22\" class=\"col_heading level0 col22\" >credit_utilization_ratio</th>\n",
              "      <th id=\"T_97b2b_level0_col23\" class=\"col_heading level0 col23\" >payment_of_min_amount</th>\n",
              "      <th id=\"T_97b2b_level0_col24\" class=\"col_heading level0 col24\" >amount_invested_monthly</th>\n",
              "      <th id=\"T_97b2b_level0_col25\" class=\"col_heading level0 col25\" >payment_behaviour</th>\n",
              "      <th id=\"T_97b2b_level0_col26\" class=\"col_heading level0 col26\" >monthly_balance</th>\n",
              "      <th id=\"T_97b2b_level0_col27\" class=\"col_heading level0 col27\" >credit_score</th>\n",
              "    </tr>\n",
              "  </thead>\n",
              "  <tbody>\n",
              "    <tr>\n",
              "      <th id=\"T_97b2b_level0_row0\" class=\"row_heading level0 row0\" >0</th>\n",
              "      <td id=\"T_97b2b_row0_col0\" class=\"data row0 col0\" >0x1602</td>\n",
              "      <td id=\"T_97b2b_row0_col1\" class=\"data row0 col1\" >CUS_0xd40</td>\n",
              "      <td id=\"T_97b2b_row0_col2\" class=\"data row0 col2\" >January</td>\n",
              "      <td id=\"T_97b2b_row0_col3\" class=\"data row0 col3\" >Aaron Maashoh</td>\n",
              "      <td id=\"T_97b2b_row0_col4\" class=\"data row0 col4\" >23</td>\n",
              "      <td id=\"T_97b2b_row0_col5\" class=\"data row0 col5\" >821-00-0265</td>\n",
              "      <td id=\"T_97b2b_row0_col6\" class=\"data row0 col6\" >Scientist</td>\n",
              "      <td id=\"T_97b2b_row0_col7\" class=\"data row0 col7\" >19114.120000</td>\n",
              "      <td id=\"T_97b2b_row0_col8\" class=\"data row0 col8\" >1824.843400</td>\n",
              "      <td id=\"T_97b2b_row0_col9\" class=\"data row0 col9\" >89</td>\n",
              "      <td id=\"T_97b2b_row0_col10\" class=\"data row0 col10\" >49.574947</td>\n",
              "      <td id=\"T_97b2b_row0_col11\" class=\"data row0 col11\" >3</td>\n",
              "      <td id=\"T_97b2b_row0_col12\" class=\"data row0 col12\" >4</td>\n",
              "      <td id=\"T_97b2b_row0_col13\" class=\"data row0 col13\" >3</td>\n",
              "      <td id=\"T_97b2b_row0_col14\" class=\"data row0 col14\" >4</td>\n",
              "      <td id=\"T_97b2b_row0_col15\" class=\"data row0 col15\" >['Auto Loan', 'Credit-Builder Loan', 'Personal Loan', 'Home Equity Loan']</td>\n",
              "      <td id=\"T_97b2b_row0_col16\" class=\"data row0 col16\" >3</td>\n",
              "      <td id=\"T_97b2b_row0_col17\" class=\"data row0 col17\" >7</td>\n",
              "      <td id=\"T_97b2b_row0_col18\" class=\"data row0 col18\" >11.270000</td>\n",
              "      <td id=\"T_97b2b_row0_col19\" class=\"data row0 col19\" >4</td>\n",
              "      <td id=\"T_97b2b_row0_col20\" class=\"data row0 col20\" >Good</td>\n",
              "      <td id=\"T_97b2b_row0_col21\" class=\"data row0 col21\" >809.980000</td>\n",
              "      <td id=\"T_97b2b_row0_col22\" class=\"data row0 col22\" >26.822620</td>\n",
              "      <td id=\"T_97b2b_row0_col23\" class=\"data row0 col23\" >No</td>\n",
              "      <td id=\"T_97b2b_row0_col24\" class=\"data row0 col24\" >80.415300</td>\n",
              "      <td id=\"T_97b2b_row0_col25\" class=\"data row0 col25\" >High_spent_Small_value_payments</td>\n",
              "      <td id=\"T_97b2b_row0_col26\" class=\"data row0 col26\" >312.494080</td>\n",
              "      <td id=\"T_97b2b_row0_col27\" class=\"data row0 col27\" >2</td>\n",
              "    </tr>\n",
              "    <tr>\n",
              "      <th id=\"T_97b2b_level0_row1\" class=\"row_heading level0 row1\" >1</th>\n",
              "      <td id=\"T_97b2b_row1_col0\" class=\"data row1 col0\" >0x1603</td>\n",
              "      <td id=\"T_97b2b_row1_col1\" class=\"data row1 col1\" >CUS_0xd40</td>\n",
              "      <td id=\"T_97b2b_row1_col2\" class=\"data row1 col2\" >February</td>\n",
              "      <td id=\"T_97b2b_row1_col3\" class=\"data row1 col3\" >Aaron Maashoh</td>\n",
              "      <td id=\"T_97b2b_row1_col4\" class=\"data row1 col4\" >23</td>\n",
              "      <td id=\"T_97b2b_row1_col5\" class=\"data row1 col5\" >821-00-0265</td>\n",
              "      <td id=\"T_97b2b_row1_col6\" class=\"data row1 col6\" >Scientist</td>\n",
              "      <td id=\"T_97b2b_row1_col7\" class=\"data row1 col7\" >19114.120000</td>\n",
              "      <td id=\"T_97b2b_row1_col8\" class=\"data row1 col8\" >1824.843400</td>\n",
              "      <td id=\"T_97b2b_row1_col9\" class=\"data row1 col9\" >93</td>\n",
              "      <td id=\"T_97b2b_row1_col10\" class=\"data row1 col10\" >49.574947</td>\n",
              "      <td id=\"T_97b2b_row1_col11\" class=\"data row1 col11\" >3</td>\n",
              "      <td id=\"T_97b2b_row1_col12\" class=\"data row1 col12\" >4</td>\n",
              "      <td id=\"T_97b2b_row1_col13\" class=\"data row1 col13\" >3</td>\n",
              "      <td id=\"T_97b2b_row1_col14\" class=\"data row1 col14\" >4</td>\n",
              "      <td id=\"T_97b2b_row1_col15\" class=\"data row1 col15\" >['Auto Loan', 'Credit-Builder Loan', 'Personal Loan', 'Home Equity Loan']</td>\n",
              "      <td id=\"T_97b2b_row1_col16\" class=\"data row1 col16\" >-1</td>\n",
              "      <td id=\"T_97b2b_row1_col17\" class=\"data row1 col17\" >7</td>\n",
              "      <td id=\"T_97b2b_row1_col18\" class=\"data row1 col18\" >11.270000</td>\n",
              "      <td id=\"T_97b2b_row1_col19\" class=\"data row1 col19\" >4</td>\n",
              "      <td id=\"T_97b2b_row1_col20\" class=\"data row1 col20\" >Good</td>\n",
              "      <td id=\"T_97b2b_row1_col21\" class=\"data row1 col21\" >809.980000</td>\n",
              "      <td id=\"T_97b2b_row1_col22\" class=\"data row1 col22\" >31.944960</td>\n",
              "      <td id=\"T_97b2b_row1_col23\" class=\"data row1 col23\" >No</td>\n",
              "      <td id=\"T_97b2b_row1_col24\" class=\"data row1 col24\" >118.280220</td>\n",
              "      <td id=\"T_97b2b_row1_col25\" class=\"data row1 col25\" >Low_spent_Large_value_payments</td>\n",
              "      <td id=\"T_97b2b_row1_col26\" class=\"data row1 col26\" >284.629150</td>\n",
              "      <td id=\"T_97b2b_row1_col27\" class=\"data row1 col27\" >2</td>\n",
              "    </tr>\n",
              "    <tr>\n",
              "      <th id=\"T_97b2b_level0_row2\" class=\"row_heading level0 row2\" >2</th>\n",
              "      <td id=\"T_97b2b_row2_col0\" class=\"data row2 col0\" >0x1604</td>\n",
              "      <td id=\"T_97b2b_row2_col1\" class=\"data row2 col1\" >CUS_0xd40</td>\n",
              "      <td id=\"T_97b2b_row2_col2\" class=\"data row2 col2\" >March</td>\n",
              "      <td id=\"T_97b2b_row2_col3\" class=\"data row2 col3\" >Aaron Maashoh</td>\n",
              "      <td id=\"T_97b2b_row2_col4\" class=\"data row2 col4\" >23</td>\n",
              "      <td id=\"T_97b2b_row2_col5\" class=\"data row2 col5\" >821-00-0265</td>\n",
              "      <td id=\"T_97b2b_row2_col6\" class=\"data row2 col6\" >Scientist</td>\n",
              "      <td id=\"T_97b2b_row2_col7\" class=\"data row2 col7\" >19114.120000</td>\n",
              "      <td id=\"T_97b2b_row2_col8\" class=\"data row2 col8\" >1824.843400</td>\n",
              "      <td id=\"T_97b2b_row2_col9\" class=\"data row2 col9\" >91</td>\n",
              "      <td id=\"T_97b2b_row2_col10\" class=\"data row2 col10\" >49.574947</td>\n",
              "      <td id=\"T_97b2b_row2_col11\" class=\"data row2 col11\" >3</td>\n",
              "      <td id=\"T_97b2b_row2_col12\" class=\"data row2 col12\" >4</td>\n",
              "      <td id=\"T_97b2b_row2_col13\" class=\"data row2 col13\" >3</td>\n",
              "      <td id=\"T_97b2b_row2_col14\" class=\"data row2 col14\" >4</td>\n",
              "      <td id=\"T_97b2b_row2_col15\" class=\"data row2 col15\" >['Auto Loan', 'Credit-Builder Loan', 'Personal Loan', 'Home Equity Loan']</td>\n",
              "      <td id=\"T_97b2b_row2_col16\" class=\"data row2 col16\" >3</td>\n",
              "      <td id=\"T_97b2b_row2_col17\" class=\"data row2 col17\" >7</td>\n",
              "      <td id=\"T_97b2b_row2_col18\" class=\"data row2 col18\" >11.270000</td>\n",
              "      <td id=\"T_97b2b_row2_col19\" class=\"data row2 col19\" >4</td>\n",
              "      <td id=\"T_97b2b_row2_col20\" class=\"data row2 col20\" >Good</td>\n",
              "      <td id=\"T_97b2b_row2_col21\" class=\"data row2 col21\" >809.980000</td>\n",
              "      <td id=\"T_97b2b_row2_col22\" class=\"data row2 col22\" >28.609352</td>\n",
              "      <td id=\"T_97b2b_row2_col23\" class=\"data row2 col23\" >No</td>\n",
              "      <td id=\"T_97b2b_row2_col24\" class=\"data row2 col24\" >81.699524</td>\n",
              "      <td id=\"T_97b2b_row2_col25\" class=\"data row2 col25\" >Low_spent_Medium_value_payments</td>\n",
              "      <td id=\"T_97b2b_row2_col26\" class=\"data row2 col26\" >331.209870</td>\n",
              "      <td id=\"T_97b2b_row2_col27\" class=\"data row2 col27\" >2</td>\n",
              "    </tr>\n",
              "  </tbody>\n",
              "</table>\n"
            ],
            "text/plain": [
              "<pandas.io.formats.style.Styler at 0x7c92a85231f0>"
            ]
          },
          "execution_count": 4,
          "metadata": {},
          "output_type": "execute_result"
        }
      ],
      "source": [
        "# Read csv file and print our 5 rows\n",
        "df = pd.read_csv('/content/drive/MyDrive/DATA1/credit_score_cleaned_train.csv')\n",
        "df.loc[0:2].style"
      ]
    },
    {
      "cell_type": "code",
      "execution_count": null,
      "metadata": {
        "colab": {
          "base_uri": "https://localhost:8080/"
        },
        "id": "ODwWu6JBeD8G",
        "outputId": "0cf65739-7e35-4834-85a6-7163b4da8863"
      },
      "outputs": [
        {
          "name": "stdout",
          "output_type": "stream",
          "text": [
            "<class 'pandas.core.frame.DataFrame'>\n",
            "RangeIndex: 96696 entries, 0 to 96695\n",
            "Data columns (total 28 columns):\n",
            " #   Column                    Non-Null Count  Dtype  \n",
            "---  ------                    --------------  -----  \n",
            " 0   id                        96696 non-null  object \n",
            " 1   customer_id               96696 non-null  object \n",
            " 2   month                     96696 non-null  object \n",
            " 3   name                      96696 non-null  object \n",
            " 4   age                       96696 non-null  int64  \n",
            " 5   ssn                       96696 non-null  object \n",
            " 6   occupation                96696 non-null  object \n",
            " 7   annual_income             96696 non-null  float64\n",
            " 8   monthly_inhand_salary     96696 non-null  float64\n",
            " 9   credit_history_age        96696 non-null  int64  \n",
            " 10  total_emi_per_month       96696 non-null  float64\n",
            " 11  num_bank_accounts         96696 non-null  int64  \n",
            " 12  num_credit_card           96696 non-null  int64  \n",
            " 13  interest_rate             96696 non-null  int64  \n",
            " 14  num_of_loan               96696 non-null  int64  \n",
            " 15  type_of_loan              96696 non-null  object \n",
            " 16  delay_from_due_date       96696 non-null  int64  \n",
            " 17  num_of_delayed_payment    96696 non-null  int64  \n",
            " 18  changed_credit_limit      96696 non-null  float64\n",
            " 19  num_credit_inquiries      96696 non-null  int64  \n",
            " 20  credit_mix                96696 non-null  object \n",
            " 21  outstanding_debt          96696 non-null  float64\n",
            " 22  credit_utilization_ratio  96696 non-null  float64\n",
            " 23  payment_of_min_amount     96696 non-null  object \n",
            " 24  amount_invested_monthly   96696 non-null  float64\n",
            " 25  payment_behaviour         96696 non-null  object \n",
            " 26  monthly_balance           96696 non-null  float64\n",
            " 27  credit_score              96696 non-null  int64  \n",
            "dtypes: float64(8), int64(10), object(10)\n",
            "memory usage: 20.7+ MB\n"
          ]
        }
      ],
      "source": [
        "df.info()"
      ]
    },
    {
      "cell_type": "code",
      "execution_count": 5,
      "metadata": {
        "colab": {
          "base_uri": "https://localhost:8080/"
        },
        "id": "LcJIuWaaeD-r",
        "outputId": "202bfd88-cec3-423e-e148-8f870fe99dea"
      },
      "outputs": [
        {
          "name": "stdout",
          "output_type": "stream",
          "text": [
            "The unique classes in the target column are: [2 1 0]\n"
          ]
        }
      ],
      "source": [
        "unique_classes_list = df['credit_score'].unique()\n",
        "print(f'The unique classes in the target column are: {unique_classes_list}')"
      ]
    },
    {
      "cell_type": "code",
      "execution_count": 6,
      "metadata": {
        "colab": {
          "base_uri": "https://localhost:8080/"
        },
        "id": "UpO80VEYeEBh",
        "outputId": "4dfddc39-2402-48d1-cbe2-c3f6a45d9f8c"
      },
      "outputs": [
        {
          "name": "stdout",
          "output_type": "stream",
          "text": [
            "Columns with NaN values:\n",
            "Series([], dtype: int64)\n",
            "Number of columns with NaN values: 0\n"
          ]
        }
      ],
      "source": [
        "# Check for NaN values in each column\n",
        "nan_columns = df.isna().sum()\n",
        "\n",
        "# Filter columns with NaN values\n",
        "nan_columns = nan_columns[nan_columns > 0]\n",
        "\n",
        "print(f\"Columns with NaN values:\\n{nan_columns}\")\n",
        "print(f\"Number of columns with NaN values: {nan_columns.count()}\")"
      ]
    },
    {
      "cell_type": "code",
      "execution_count": 7,
      "metadata": {
        "colab": {
          "base_uri": "https://localhost:8080/"
        },
        "id": "QQrsA2n_eEE2",
        "outputId": "13e24387-56e2-4cc1-d5d5-1b713ba207b5"
      },
      "outputs": [
        {
          "data": {
            "text/plain": [
              "<torch._C.Generator at 0x7c9341d229b0>"
            ]
          },
          "execution_count": 7,
          "metadata": {},
          "output_type": "execute_result"
        }
      ],
      "source": [
        "# Global variables\n",
        "SEED = 777\n",
        "torch.manual_seed(SEED)\n"
      ]
    },
    {
      "cell_type": "code",
      "execution_count": 8,
      "metadata": {
        "id": "HaDOlmVZhnwh"
      },
      "outputs": [],
      "source": [
        "# Create features and target\n",
        "X = df.drop(['credit_score'], axis=1)\n",
        "y = df['credit_score']"
      ]
    },
    {
      "cell_type": "code",
      "execution_count": 9,
      "metadata": {
        "id": "LX9Mkz5Ehomq"
      },
      "outputs": [],
      "source": [
        "# Define numerical and categorical features\n",
        "numeric_features = X.select_dtypes(include=[np.number]).columns.tolist()\n",
        "categorical_features = X.select_dtypes(include=[object, 'category']).columns.tolist()"
      ]
    },
    {
      "cell_type": "code",
      "execution_count": 10,
      "metadata": {
        "id": "mP_lQ8uMhpcs"
      },
      "outputs": [],
      "source": [
        "# Preprocessing pipeline\n",
        "preprocessor = ColumnTransformer(\n",
        "    transformers=[\n",
        "        ('num', StandardScaler(), numeric_features),\n",
        "        ('cat', OneHotEncoder(), categorical_features)\n",
        "    ])\n",
        "\n",
        "X = preprocessor.fit_transform(X)"
      ]
    },
    {
      "cell_type": "code",
      "execution_count": null,
      "metadata": {
        "id": "2vnJuglXhpf_"
      },
      "outputs": [],
      "source": [
        "# Upscaling data\n",
        "scaler = StandardScaler(with_mean=False)\n",
        "X_scaled = scaler.fit_transform(X)"
      ]
    },
    {
      "cell_type": "code",
      "execution_count": null,
      "metadata": {
        "id": "JT7egQ2ehpiM"
      },
      "outputs": [],
      "source": [
        "# Balancing labels using SMOTE\n",
        "smote = SMOTE(random_state=SEED)\n",
        "X_resampled, y_resampled = smote.fit_resample(X_scaled, y)\n"
      ]
    },
    {
      "cell_type": "code",
      "execution_count": null,
      "metadata": {
        "id": "vGKclCNghplg"
      },
      "outputs": [],
      "source": [
        "# Split the data into training and test sets\n",
        "X_train, X_test, y_train, y_test = train_test_split(\n",
        "    X_resampled, y_resampled, test_size=0.2, random_state=SEED)"
      ]
    },
    {
      "cell_type": "code",
      "execution_count": null,
      "metadata": {
        "id": "OGeyjspqrlwk"
      },
      "outputs": [],
      "source": [
        "# Save the split data to disk\n",
        "scipy.sparse.save_npz('/content/drive/MyDrive/DATA1/X_train.npz', X_train)\n",
        "scipy.sparse.save_npz('/content/drive/MyDrive/DATA1/X_test.npz', X_test)\n",
        "pd.DataFrame(y_train).to_csv('/content/drive/MyDrive/DATA1/y_train.csv', index=False)\n",
        "pd.DataFrame(y_test).to_csv('/content/drive/MyDrive/DATA1/y_test.cs', index=False)"
      ]
    },
    {
      "cell_type": "code",
      "execution_count": 11,
      "metadata": {
        "id": "drP1maxxh0rq"
      },
      "outputs": [],
      "source": [
        "# Convert to PyTorch tensors\n",
        "class CreditScoreDataset(Dataset):\n",
        "    def __init__(self, X_path, y_path):\n",
        "        self.X = scipy.sparse.load_npz(X_path)\n",
        "        self.y = pd.read_csv(y_path).values.flatten()\n",
        "\n",
        "    def __len__(self):\n",
        "        return len(self.y)\n",
        "\n",
        "    def __getitem__(self, idx):\n",
        "        X = torch.tensor(self.X[idx].toarray(), dtype=torch.float32).squeeze()\n",
        "        y = torch.tensor(self.y[idx], dtype=torch.long)\n",
        "        return X, y"
      ]
    },
    {
      "cell_type": "code",
      "execution_count": 12,
      "metadata": {
        "id": "WlYFULuNh0ul"
      },
      "outputs": [],
      "source": [
        "# Create datasets and dataloaders\n",
        "train_dataset = CreditScoreDataset(\n",
        "    '/content/drive/MyDrive/DATA1/X_train.npz',\n",
        "    '/content/drive/MyDrive/DATA1/y_train.csv'\n",
        ")\n",
        "test_dataset = CreditScoreDataset(\n",
        "    '/content/drive/MyDrive/DATA1/X_test.npz',\n",
        "    '/content/drive/MyDrive/DATA1/y_test.csv'\n",
        ")\n",
        "\n",
        "train_loader = DataLoader(train_dataset, batch_size=256, shuffle=True)\n",
        "test_loader = DataLoader(test_dataset, batch_size=256, shuffle=False)"
      ]
    },
    {
      "cell_type": "code",
      "execution_count": 13,
      "metadata": {
        "id": "3raGlNrth0x-"
      },
      "outputs": [],
      "source": [
        "class CreditScoreModel(nn.Module):\n",
        "    def __init__(self, input_dim, output_dim):\n",
        "        super(CreditScoreModel, self).__init__()\n",
        "        self.fc1 = nn.Linear(input_dim, 256)\n",
        "        self.bn1 = nn.BatchNorm1d(256)\n",
        "        self.fc2 = nn.Linear(256, 128)\n",
        "        self.bn2 = nn.BatchNorm1d(128)\n",
        "        self.fc3 = nn.Linear(128, 64)\n",
        "        self.bn3 = nn.BatchNorm1d(64)\n",
        "        self.fc4 = nn.Linear(64, output_dim)\n",
        "        self.relu = nn.ReLU()\n",
        "        self.dropout = nn.Dropout(0.4)\n",
        "\n",
        "    def forward(self, x):\n",
        "        x = self.relu(self.bn1(self.fc1(x.to_dense())))\n",
        "        x = self.dropout(x)\n",
        "        x = self.relu(self.bn2(self.fc2(x)))\n",
        "        x = self.dropout(x)\n",
        "        x = self.relu(self.bn3(self.fc3(x)))\n",
        "        x = self.dropout(x)\n",
        "        x = self.fc4(x)\n",
        "        return x"
      ]
    },
    {
      "cell_type": "code",
      "execution_count": 14,
      "metadata": {
        "id": "TjAnXPuKh00-"
      },
      "outputs": [],
      "source": [
        "# Initialize the model, loss function, and optimizer\n",
        "input_dim = 131635 # number of encoded cols\n",
        "output_dim = len(unique_classes_list)\n",
        "\n",
        "model = CreditScoreModel(input_dim, output_dim)\n",
        "criterion = nn.CrossEntropyLoss()\n",
        "optimizer = optim.Adam(model.parameters(), lr=0.001, weight_decay=1e-5)  # L2 regularization\n",
        "\n",
        "# Dynamic learning rate scheduler\n",
        "scheduler = ReduceLROnPlateau(optimizer, 'min', patience=5, factor=0.5)\n",
        "\n",
        "num_epochs = 10  # Set the number of epochs"
      ]
    },
    {
      "cell_type": "code",
      "execution_count": 15,
      "metadata": {
        "colab": {
          "base_uri": "https://localhost:8080/"
        },
        "id": "S4RdIYWrh03o",
        "outputId": "57bb31f4-12af-4fc0-eb99-2650cf229b4d"
      },
      "outputs": [
        {
          "name": "stdout",
          "output_type": "stream",
          "text": [
            "Epoch [1/10], Loss: 0.17552330960899468\n",
            "Epoch [2/10], Loss: 0.032439153863495024\n",
            "Epoch [3/10], Loss: 0.03118386675674067\n",
            "Epoch [4/10], Loss: 0.03169402575754709\n",
            "Epoch [5/10], Loss: 0.03141396977152004\n",
            "Epoch [6/10], Loss: 0.030555471330186965\n",
            "Epoch [7/10], Loss: 0.030370572870250166\n",
            "Epoch [8/10], Loss: 0.029556111226294104\n",
            "Epoch [9/10], Loss: 0.03027189103857562\n",
            "Epoch [10/10], Loss: 0.028706135872200007\n"
          ]
        }
      ],
      "source": [
        "# Train the model\n",
        "for epoch in range(num_epochs):\n",
        "    model.train()  # Set the model to training mode\n",
        "    running_loss = 0.0\n",
        "\n",
        "    for inputs, labels in train_loader:\n",
        "        optimizer.zero_grad()  # Zero the parameter gradients\n",
        "        outputs = model(inputs)  # Forward pass\n",
        "        loss = criterion(outputs, labels)  # Compute the loss\n",
        "        loss.backward()  # Backward pass\n",
        "        optimizer.step()  # Update the weights\n",
        "\n",
        "        running_loss += loss.item()\n",
        "\n",
        "    # Step the scheduler\n",
        "    scheduler.step(running_loss / len(train_loader))\n",
        "\n",
        "    print(f'Epoch [{epoch+1}/{num_epochs}], Loss: {running_loss/len(train_loader)}')"
      ]
    },
    {
      "cell_type": "code",
      "execution_count": 18,
      "metadata": {
        "colab": {
          "base_uri": "https://localhost:8080/"
        },
        "id": "-6ados80h07H",
        "outputId": "ef778a19-9651-4c48-8f94-ce945e4562d8"
      },
      "outputs": [
        {
          "name": "stdout",
          "output_type": "stream",
          "text": [
            "F1 Score of the model on the test data: 0.9968271025145675\n"
          ]
        }
      ],
      "source": [
        "# Evaluation loop\n",
        "model.eval()  # Set the model to evaluation mode\n",
        "all_labels = []\n",
        "all_predictions = []\n",
        "\n",
        "with torch.no_grad():  # Disable gradient calculation\n",
        "    for inputs, labels in test_loader:\n",
        "        outputs = model(inputs)  # Forward pass\n",
        "        _, predicted = torch.max(outputs.data, 1)  # Get the predicted class\n",
        "        all_labels.extend(labels.cpu().numpy())\n",
        "        all_predictions.extend(predicted.cpu().numpy())\n",
        "\n",
        "    # Calculate F1 score\n",
        "    f1 = f1_score(all_labels, all_predictions, average='weighted')\n",
        "    print(f'F1 Score of the model on the test data: {f1}')"
      ]
    }
  ],
  "metadata": {
    "colab": {
      "provenance": []
    },
    "kernelspec": {
      "display_name": "py39",
      "language": "python",
      "name": "python3"
    },
    "language_info": {
      "name": "python",
      "version": "3.9.17"
    }
  },
  "nbformat": 4,
  "nbformat_minor": 0
}
